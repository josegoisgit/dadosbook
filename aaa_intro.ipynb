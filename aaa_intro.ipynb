{
 "cells": [
  {
   "cell_type": "markdown",
   "metadata": {},
   "source": [
    "# Padrão de gráficos"
   ]
  },
  {
   "cell_type": "code",
   "execution_count": 23,
   "metadata": {},
   "outputs": [
    {
     "name": "stdout",
     "output_type": "stream",
     "text": [
      "Overwriting /home/josegois/dev/source/dadosbook/startup.py\n"
     ]
    }
   ],
   "source": [
    "%%writefile /home/josegois/dev/source/dadosbook/startup.py\n",
    "import os\n",
    "import pandas as pd\n",
    "db = 'ufrn_wait'\n",
    "db_folder = '/home/josegois/data/' + db\n",
    "dc_folders = os.listdir(db_folder)"
   ]
  },
  {
   "cell_type": "code",
   "execution_count": 24,
   "metadata": {},
   "outputs": [],
   "source": [
    "%run -i ./startup.py"
   ]
  },
  {
   "cell_type": "code",
   "execution_count": 25,
   "metadata": {},
   "outputs": [
    {
     "name": "stdout",
     "output_type": "stream",
     "text": [
      "                                                      acervo_aquisicao   : 00                                                  acervo_da_biblioteca   : 01             acervo_de_arte_pecas_museologicas_e_documentos_historicos   : 02\n",
      "                                                         aposentadoria   : 03                                                         atas_vigentes   : 04                                                atividades_de_extensao   : 05\n",
      "                                               ausencias_de_servidores   : 06                                                 avaliacao_de_docencia   : 07                                  avaliacoes_de_desempenho_de_docentes   : 08\n",
      "                                                          bens_imoveis   : 09                                                           bens_moveis   : 10                                                   boletim_de_servicos   : 11\n",
      "                                                       bolsas_de_apoio   : 12                                     bolsistas_de_iniciacao_cientifica   : 13                                              componentes_curriculares   : 14\n",
      "                                                             concursos   : 15                                                             contratos   : 16          homologacao_dos_registros_de_ponto_eletronico_dos_servidores   : 17\n",
      "                                               indicadores_de_pesquisa   : 18                                                            licitacoes   : 19                                             matriculas_em_componentes * : 20\n",
      "                                                                 obras   : 21                                               orientacoes_de_docentes   : 22                                 participacoes_em_bancas_e_orientacoes   : 23\n",
      "                        patentes_produtos_registros_e_outras_producoes   : 24                                                         pesquisadores   : 25                                                  curriculo_componente   : 26\n",
      "                                                        cursos_da_ufrn   : 27                                                   cursos_de_graduacao   : 28                                               cursos_de_pos_graduacao   : 29\n",
      "                                       dados_complementares_de_boletim   : 30                                     dados_complementares_de_discentes   : 31                                   dados_socio_economicos_de_discentes   : 32\n",
      "                                                              diplomas   : 33                                                             discentes   : 34                                                              docentes   : 35\n",
      "                                                  editais_de_concursos   : 36                                                              empenhos   : 37                               emprestimos_dos_acervos_das_bibliotecas   : 38\n",
      "                                              estoques_de_almoxarifado   : 39                                               estruturas_curriculares   : 40                                                  funcoes_gratificadas   : 41\n",
      "                                                                gastos   : 42           quadro_de_referencia_dos_servidores_tecnico_administrativos   : 43                            registro_de_ponto_eletronico_de_servidores   : 44\n",
      "                                      requisicao_de_atividade_de_campo   : 45                         requisicao_de_auxilio_financeiro_ao_estudante   : 46                                   requisicao_de_devolucao_de_material * : 47\n",
      "                                                 requisicao_de_diarias   : 48                                              requisicao_de_hospedagem   : 49                          solicitacao_de_material_de_registro_de_preco * : 50\n",
      "                                          solicitacoes_de_afastamentos   : 51                                                        tccs_graduacao   : 52                                                       tccs_lato_sensu   : 53\n",
      "                                                    tccs_stricto_sensu   : 54                                                             telefones   : 55                                       trabalhos_de_conclusao_de_curso   : 56\n",
      "                                                  trabalhos_em_eventos   : 57                                                                turmas   : 58                                                              unidades   : 59\n",
      "                                                   unidades_academicas   : 60                                requisicao_de_materiais_informacionais * : 61                    requisicao_de_materiais_informacionais_do_contrato * : 62\n",
      "                                requisicao_de_material_para_importacao * : 63   requisicao_de_material_para_participar_de_um_novo_registro_de_preco * : 64                             requisicao_de_material_servico_contratado * : 65\n",
      "                                           requisicao_de_meio_ambiente   : 66                                                    requisicao_de_obra   : 67                               requisicao_de_parecer_tecnico_avaliacao   : 68\n",
      "                                                requisicao_de_passagem   : 69                                      requisicao_de_reserva_de_veiculo   : 70                                                 requisicao_de_servico   : 71\n",
      "                                  requisicao_de_servico_para_licitacao   : 72                            requisicao_de_servico_para_pessoa_juridica   : 73                                              requisicoes_de_materiais * : 74\n",
      "                                                            resolucoes   : 75                                                            servidores   : 76                                                             convenios   : 77\n",
      "                                                    grupos_de_pesquisa   : 78                                           planos_individuais_docentes   : 79                                              requisicao_de_manutencao   : 80\n",
      "                                                servidores_aposentados   : 81                                             processos_administrativos   : 82                                                   processos_seletivos   : 83\n",
      "                                                  produtos_de_extensao   : 84                                            programas_de_pos_graduacao   : 85                                                           progressoes   : 86\n",
      "                                                    projetos_de_ensino   : 87                                                  projetos_de_pesquisa   : 88                                     publicacoes_de_livros_e_capitulos   : 89\n",
      "                                               publicacoes_em_revistas   : 90"
     ]
    }
   ],
   "source": [
    "import re\n",
    "\n",
    "kw = 'mat'\n",
    "ncol = 3\n",
    "flag = True\n",
    "cc = 0\n",
    "ff = True\n",
    "for c,collection in enumerate([os.path.basename(dc) for dc in dc_folders]):\n",
    "    if flag or ( [re.findall(kw,dc) for dc in collection] ):\n",
    "        s = '*' if ( kw in collection )  else ' '\n",
    "        if ff:\n",
    "            print('% 70s %s : %02i' % (collection,s,c),end='')\n",
    "        else:\n",
    "            print('%s %02i: %-70s' % (s,c,collection),end='')\n",
    "        cc = cc + 1\n",
    "        if not (cc%ncol):\n",
    "            print('')"
   ]
  },
  {
   "cell_type": "markdown",
   "metadata": {},
   "source": [
    "### Coleções\n"
   ]
  },
  {
   "cell_type": "markdown",
   "metadata": {},
   "source": [
    "## Carregar as matrículas nos componentes\n",
    "\n",
    "- A cada período letivos estudantes manifestam suas intenções de matricula nas turmas ofertadas a cada componente curricular.\n",
    "- Essa coleção de dados apresenta o desempenho acadêmico dos estudantes expresso pela quantidade de faltas, notas obtidas e status ao fim da turma."
   ]
  },
  {
   "cell_type": "markdown",
   "metadata": {},
   "source": [
    "# Curriculos\n",
    "## Estruturas Curriculares"
   ]
  },
  {
   "cell_type": "markdown",
   "metadata": {},
   "source": [
    "## Componentes curriculares"
   ]
  },
  {
   "cell_type": "markdown",
   "metadata": {},
   "source": [
    "## Componentes Curriculares"
   ]
  },
  {
   "cell_type": "markdown",
   "metadata": {},
   "source": [
    "### Cursos"
   ]
  },
  {
   "cell_type": "markdown",
   "metadata": {},
   "source": [
    "## Notas por curso"
   ]
  },
  {
   "cell_type": "markdown",
   "metadata": {},
   "source": [
    "### Junção de tabelas pelas IDs\n",
    "\n",
    "curso -> estrutura curricular -> curriculo_componente -> turmas -> matriculas em componentes\n",
    "\n",
    "curso <- estrutura curricular <- curriculo_componente <- turmas -> matriculas em componentes"
   ]
  },
  {
   "cell_type": "code",
   "execution_count": 22,
   "metadata": {},
   "outputs": [
    {
     "ename": "NameError",
     "evalue": "name 'cursos' is not defined",
     "output_type": "error",
     "traceback": [
      "\u001b[0;31m---------------------------------------------------------------------------\u001b[0m",
      "\u001b[0;31mNameError\u001b[0m                                 Traceback (most recent call last)",
      "\u001b[0;32m/media/josegois/30C65002C64FC736/dev/source/dadosbook/startup.py\u001b[0m in \u001b[0;36m<module>\u001b[0;34m\u001b[0m\n\u001b[1;32m      1\u001b[0m \u001b[0;31m# Chaves de relacionamento\u001b[0m\u001b[0;34m\u001b[0m\u001b[0;34m\u001b[0m\u001b[0;34m\u001b[0m\u001b[0m\n\u001b[1;32m      2\u001b[0m \u001b[0;34m\u001b[0m\u001b[0m\n\u001b[0;32m----> 3\u001b[0;31m \u001b[0mcursos\u001b[0m\u001b[0;34m[\u001b[0m\u001b[0;34m'id_curso'\u001b[0m\u001b[0;34m]\u001b[0m\u001b[0;34m\u001b[0m\u001b[0;34m\u001b[0m\u001b[0m\n\u001b[0m\u001b[1;32m      4\u001b[0m \u001b[0mestruturas_curriculares\u001b[0m\u001b[0;34m[\u001b[0m\u001b[0;34m'id_curso'\u001b[0m\u001b[0;34m]\u001b[0m\u001b[0;34m\u001b[0m\u001b[0;34m\u001b[0m\u001b[0m\n\u001b[1;32m      5\u001b[0m \u001b[0mestruturas_curriculares\u001b[0m\u001b[0;34m[\u001b[0m\u001b[0;34m'id_curriculo'\u001b[0m\u001b[0;34m]\u001b[0m\u001b[0;34m\u001b[0m\u001b[0;34m\u001b[0m\u001b[0m\n",
      "\u001b[0;31mNameError\u001b[0m: name 'cursos' is not defined"
     ]
    }
   ],
   "source": [
    "# Chaves de relacionamento\n",
    "\n",
    "cursos['id_curso']\n",
    "estruturas_curriculares['id_curso']\n",
    "estruturas_curriculares['id_curriculo']\n",
    "curriculo_componente['id_curriculo']\n",
    "curriculo_componente['id_componente_curricular']\n",
    "componentes_curriculares['id_componente']\n",
    "turmas['id_componente_curricular']"
   ]
  },
  {
   "cell_type": "markdown",
   "metadata": {},
   "source": [
    "### Componentes curriculares"
   ]
  }
 ],
 "metadata": {
  "kernelspec": {
   "display_name": "Python 3",
   "language": "python",
   "name": "python3"
  },
  "language_info": {
   "codemirror_mode": {
    "name": "ipython",
    "version": 3
   },
   "file_extension": ".py",
   "mimetype": "text/x-python",
   "name": "python",
   "nbconvert_exporter": "python",
   "pygments_lexer": "ipython3",
   "version": "3.8.5"
  }
 },
 "nbformat": 4,
 "nbformat_minor": 4
}
