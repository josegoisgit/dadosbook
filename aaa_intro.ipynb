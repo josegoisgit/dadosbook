{
 "cells": [
  {
   "cell_type": "markdown",
   "metadata": {},
   "source": [
    "# Padrão de gráficos"
   ]
  },
  {
   "cell_type": "code",
   "execution_count": 4,
   "metadata": {},
   "outputs": [
    {
     "name": "stdout",
     "output_type": "stream",
     "text": [
      "Overwriting ./startup.py\n"
     ]
    }
   ],
   "source": [
    "%%writefile ./startup.py\n",
    "import os\n",
    "import pandas as pd\n",
    "db = 'ufrn_wait'\n",
    "db_folder = '/data/' + db\n",
    "dc_folders = os.listdir(db_folder)"
   ]
  },
  {
   "cell_type": "code",
   "execution_count": 5,
   "metadata": {},
   "outputs": [],
   "source": [
    "%run -i ./startup.py"
   ]
  },
  {
   "cell_type": "code",
   "execution_count": 13,
   "metadata": {},
   "outputs": [
    {
     "name": "stdout",
     "output_type": "stream",
     "text": [
      "                                                      acervo_aquisicao   : 00                                                  acervo_da_biblioteca   : 01             acervo_de_arte_pecas_museologicas_e_documentos_historicos   : 02\n",
      "                                                         aposentadoria   : 03                                                         atas_vigentes   : 04                                                atividades_de_extensao   : 05\n",
      "                                               ausencias_de_servidores   : 06                                                 avaliacao_de_docencia   : 07                                  avaliacoes_de_desempenho_de_docentes   : 08\n",
      "                                                          bens_imoveis   : 09                                                           bens_moveis   : 10                                                   boletim_de_servicos   : 11\n",
      "                                                       bolsas_de_apoio   : 12                                     bolsistas_de_iniciacao_cientifica   : 13                                              componentes_curriculares   : 14\n",
      "                                                             concursos   : 15                                                             contratos   : 16                                                             convenios   : 17\n",
      "                                                  curriculo_componente   : 18                                                        cursos_da_ufrn   : 19                                                   cursos_de_graduacao   : 20\n",
      "                                               cursos_de_pos_graduacao   : 21                                       dados_complementares_de_boletim   : 22                                     dados_complementares_de_discentes   : 23\n",
      "                                   dados_socio_economicos_de_discentes   : 24                                                              diplomas   : 25                                                             discentes   : 26\n",
      "                                                              docentes   : 27                                                  editais_de_concursos   : 28                                                              empenhos   : 29\n",
      "                               emprestimos_dos_acervos_das_bibliotecas   : 30                                              estoques_de_almoxarifado   : 31                                               estruturas_curriculares   : 32\n",
      "                                                  funcoes_gratificadas   : 33                                                                gastos   : 34                                                    grupos_de_pesquisa   : 35\n",
      "          homologacao_dos_registros_de_ponto_eletronico_dos_servidores   : 36                                               indicadores_de_pesquisa   : 37                                                            licitacoes   : 38\n",
      "                                             matriculas_em_componentes * : 39                                                                 obras   : 40                                               orientacoes_de_docentes   : 41\n",
      "                                 participacoes_em_bancas_e_orientacoes   : 42                        patentes_produtos_registros_e_outras_producoes   : 43                                                         pesquisadores   : 44\n",
      "                                           planos_individuais_docentes   : 45                                             processos_administrativos   : 46                                                   processos_seletivos   : 47\n",
      "                                                  produtos_de_extensao   : 48                                            programas_de_pos_graduacao   : 49                                                           progressoes   : 50\n",
      "                                                    projetos_de_ensino   : 51                                                  projetos_de_pesquisa   : 52                                     publicacoes_de_livros_e_capitulos   : 53\n",
      "                                               publicacoes_em_revistas   : 54           quadro_de_referencia_dos_servidores_tecnico_administrativos   : 55                            registro_de_ponto_eletronico_de_servidores   : 56\n",
      "                                      requisicao_de_atividade_de_campo   : 57                         requisicao_de_auxilio_financeiro_ao_estudante   : 58                                   requisicao_de_devolucao_de_material * : 59\n",
      "                                                 requisicao_de_diarias   : 60                                              requisicao_de_hospedagem   : 61                                              requisicao_de_manutencao   : 62\n",
      "                                requisicao_de_materiais_informacionais * : 63                    requisicao_de_materiais_informacionais_do_contrato * : 64                                requisicao_de_material_para_importacao * : 65\n",
      "   requisicao_de_material_para_participar_de_um_novo_registro_de_preco * : 66                             requisicao_de_material_servico_contratado * : 67                                           requisicao_de_meio_ambiente   : 68\n",
      "                                                    requisicao_de_obra   : 69                               requisicao_de_parecer_tecnico_avaliacao   : 70                                                requisicao_de_passagem   : 71\n",
      "                                      requisicao_de_reserva_de_veiculo   : 72                                                 requisicao_de_servico   : 73                                  requisicao_de_servico_para_licitacao   : 74\n",
      "                            requisicao_de_servico_para_pessoa_juridica   : 75                                              requisicoes_de_materiais * : 76                                                            resolucoes   : 77\n",
      "                                                            servidores   : 78                                                servidores_aposentados   : 79                          solicitacao_de_material_de_registro_de_preco * : 80\n",
      "                                          solicitacoes_de_afastamentos   : 81                                                        tccs_graduacao   : 82                                                       tccs_lato_sensu   : 83\n",
      "                                                    tccs_stricto_sensu   : 84                                                             telefones   : 85                                       trabalhos_de_conclusao_de_curso   : 86\n",
      "                                                  trabalhos_em_eventos   : 87                                                                turmas   : 88                                                              unidades   : 89\n",
      "                                                   unidades_academicas   : 90"
     ]
    }
   ],
   "source": [
    "import re\n",
    "\n",
    "kw = 'mat'\n",
    "ncol = 3\n",
    "flag = True\n",
    "cc = 0\n",
    "ff = True\n",
    "for c,collection in enumerate([os.path.basename(dc) for dc in dc_folders]):\n",
    "    if flag or ( [re.findall(kw,dc) for dc in collection] ):\n",
    "        s = '*' if ( kw in collection )  else ' '\n",
    "        if ff:\n",
    "            print('% 70s %s : %02i' % (collection,s,c),end='')\n",
    "        else:\n",
    "            print('%s %02i: %-70s' % (s,c,collection),end='')\n",
    "        cc = cc + 1\n",
    "        if not (cc%ncol):\n",
    "            print('')"
   ]
  },
  {
   "cell_type": "markdown",
   "metadata": {},
   "source": [
    "### Coleções\n"
   ]
  },
  {
   "cell_type": "markdown",
   "metadata": {},
   "source": [
    "## Carregar as matrículas nos componentes\n",
    "\n",
    "- A cada período letivos estudantes manifestam suas intenções de matricula nas turmas ofertadas a cada componente curricular.\n",
    "- Essa coleção de dados apresenta o desempenho acadêmico dos estudantes expresso pela quantidade de faltas, notas obtidas e status ao fim da turma."
   ]
  },
  {
   "cell_type": "markdown",
   "metadata": {},
   "source": [
    "# Curriculos\n",
    "## Estruturas Curriculares"
   ]
  },
  {
   "cell_type": "markdown",
   "metadata": {},
   "source": [
    "## Componentes curriculares"
   ]
  },
  {
   "cell_type": "markdown",
   "metadata": {},
   "source": [
    "## Componentes Curriculares"
   ]
  },
  {
   "cell_type": "markdown",
   "metadata": {},
   "source": [
    "### Cursos"
   ]
  },
  {
   "cell_type": "markdown",
   "metadata": {},
   "source": [
    "## Notas por curso"
   ]
  },
  {
   "cell_type": "markdown",
   "metadata": {},
   "source": [
    "### Junção de tabelas pelas IDs\n",
    "\n",
    "curso -> estrutura curricular -> curriculo_componente -> turmas -> matriculas em componentes\n",
    "\n",
    "curso <- estrutura curricular <- curriculo_componente <- turmas -> matriculas em componentes"
   ]
  },
  {
   "cell_type": "code",
   "execution_count": 399,
   "metadata": {},
   "outputs": [
    {
     "data": {
      "text/plain": [
       "0       18730\n",
       "1       18724\n",
       "2       18717\n",
       "3       18665\n",
       "4       18669\n",
       "        ...  \n",
       "5396    38700\n",
       "5397    37310\n",
       "5398    39277\n",
       "5399    39583\n",
       "5400    18716\n",
       "Name: id_componente_curricular, Length: 392518, dtype: category\n",
       "Categories (24053, int64): [18642, 18645, 18646, 18647, ..., 2056262, 2056263, 2056264, 2056265]"
      ]
     },
     "execution_count": 399,
     "metadata": {},
     "output_type": "execute_result"
    }
   ],
   "source": [
    "# Chaves de relacionamento\n",
    "\n",
    "cursos['id_curso']\n",
    "estruturas_curriculares['id_curso']\n",
    "estruturas_curriculares['id_curriculo']\n",
    "curriculo_componente['id_curriculo']\n",
    "curriculo_componente['id_componente_curricular']\n",
    "componentes_curriculares['id_componente']\n",
    "turmas['id_componente_curricular']"
   ]
  },
  {
   "cell_type": "markdown",
   "metadata": {},
   "source": [
    "### Componentes curriculares"
   ]
  }
 ],
 "metadata": {
  "kernelspec": {
   "display_name": "Python 3",
   "language": "python",
   "name": "python3"
  },
  "language_info": {
   "codemirror_mode": {
    "name": "ipython",
    "version": 3
   },
   "file_extension": ".py",
   "mimetype": "text/x-python",
   "name": "python",
   "nbconvert_exporter": "python",
   "pygments_lexer": "ipython3",
   "version": "3.8.5"
  }
 },
 "nbformat": 4,
 "nbformat_minor": 4
}
