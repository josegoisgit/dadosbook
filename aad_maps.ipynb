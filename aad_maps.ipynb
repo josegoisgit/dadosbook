{
 "cells": [
  {
   "cell_type": "code",
   "execution_count": 1,
   "metadata": {},
   "outputs": [],
   "source": [
    "%run -i ./startup.py\n",
    "%run -i ./functions/dc_transform.py\n",
    "%run -i ./functions/dc_join.py\n",
    "%run -i ./functions/dc_list.py\n",
    "%run -i ./functions/dc_keys.py\n",
    "#%run -i ./functions/datagov_spider.py"
   ]
  },
  {
   "cell_type": "code",
   "execution_count": 2,
   "metadata": {},
   "outputs": [],
   "source": [
    "import re\n",
    "import nltk\n",
    "import shapefile\n",
    "import numpy as np\n",
    "import seaborn as sns\n",
    "import geopandas as gpd\n",
    "import ipyleaflet as ipl\n",
    "\n",
    "from branca.colormap import linear\n",
    "from datetime import date\n",
    "from unidecode import unidecode\n",
    "from matplotlib import pyplot as plt"
   ]
  },
  {
   "cell_type": "code",
   "execution_count": 3,
   "metadata": {},
   "outputs": [],
   "source": [
    "in_dir = '/home/josegois/data/maps/brazil/estados'\n",
    "in_shp = in_dir + '/UFEBRASIL.shp'\n",
    "\n",
    "br_estados = gpd.read_file(in_shp)"
   ]
  },
  {
   "cell_type": "code",
   "execution_count": 4,
   "metadata": {},
   "outputs": [],
   "source": [
    "getl  = lambda df,i,v: df[df[i].isin(v)].reset_index(drop=True)\n",
    "getin = lambda df,i,v: df[df[i].isin(np.unique(v))].reset_index(drop=True)\n",
    "getre = lambda df,i,v: df[df[i].isin(list(filter(lambda i : re.findall(v,i),df[i])))].reset_index(drop=True)"
   ]
  },
  {
   "cell_type": "code",
   "execution_count": 5,
   "metadata": {},
   "outputs": [],
   "source": [
    "def dc_data(key_pattern='^.*$'):\n",
    "    data = []\n",
    "    for key in dc_join.dict.keys():\n",
    "        if re.search(key_pattern,key):\n",
    "            data.append(dc_join.dict[key]['data'])\n",
    "    if ( len(data) == 1 ):\n",
    "        return data[0]\n",
    "    else:\n",
    "        return data"
   ]
  },
  {
   "cell_type": "code",
   "execution_count": 6,
   "metadata": {},
   "outputs": [],
   "source": [
    "def dc_notin(data, fields, exvals):\n",
    "    n_ex       = np.empty((len(exvals),len(fields)))\n",
    "    n_ex[:]    = 0\n",
    "    \n",
    "    id_include    = np.empty((dc_perspective.shape[0],),dtype=bool)\n",
    "    id_include[:] = True\n",
    "                    \n",
    "    for k,key in enumerate(fields):\n",
    "        for e,exval in enumerate(exvals):\n",
    "            id_exval   = dc_perspective[key].isin([exval]).values \n",
    "            n_ex[e,k]  = sum(id_exval) \n",
    "            id_include = id_include & ( ~id_exval )\n",
    "\n",
    "        data = dc_perspective.iloc[id_include]\n",
    "    return (data,n_ex)"
   ]
  },
  {
   "cell_type": "code",
   "execution_count": 7,
   "metadata": {},
   "outputs": [],
   "source": [
    "def levdist (A,B):\n",
    "    n_a = len(A)\n",
    "    n_b = len(B)\n",
    "\n",
    "    states_distance = np.empty((n_a,n_b))\n",
    "\n",
    "    for a in range ( n_a ):\n",
    "        for b in range ( n_b ):\n",
    "            states_distance[a,b] = nltk.edit_distance(A[a], B[b])\n",
    "    return states_distance"
   ]
  },
  {
   "cell_type": "code",
   "execution_count": 8,
   "metadata": {},
   "outputs": [
    {
     "name": "stderr",
     "output_type": "stream",
     "text": [
      "/home/josegois/anaconda3/lib/python3.8/site-packages/IPython/core/interactiveshell.py:3418: DtypeWarning: Columns (15,16) have mixed types.Specify dtype option on import or set low_memory=False.\n",
      "  exec(code_obj, self.user_global_ns, self.user_ns)\n"
     ]
    }
   ],
   "source": [
    "dc_alias_re = {\n",
    "    'discentes'                : '^dados_complementares_.*discentes$',\n",
    "    'discentes_complementar'   : '.*socio_economicos_.*discentes*'\n",
    "}\n",
    "\n",
    "for dc_alias,dc_re in dc_alias_re.items():\n",
    "    dc_join(db=db,dc=dc_re,alias=dc_alias)"
   ]
  },
  {
   "cell_type": "code",
   "execution_count": 9,
   "metadata": {},
   "outputs": [],
   "source": [
    "discentes               = dc_data('^discentes$').merge(dc_data('^discentes_'),on='id_discente')\n",
    "discentes.estado_origem = discentes.estado_origem.astype('category')"
   ]
  },
  {
   "cell_type": "code",
   "execution_count": 11,
   "metadata": {},
   "outputs": [],
   "source": [
    "def dc_notin(data, fields, exvals):\n",
    "    n_ex       = np.empty((len(exvals),len(fields)))\n",
    "    n_ex[:]    = 0\n",
    "\n",
    "    for k,key in enumerate(fields):\n",
    "        id_include    = np.empty((data.shape[0],),dtype=bool)\n",
    "        id_include[:] = True\n",
    "\n",
    "        for e,exval in enumerate(exvals):\n",
    "            id_exval   = data[key].isin([exval]).values \n",
    "            n_ex[e,k]  = sum(id_exval) \n",
    "            id_include = id_include & ( ~id_exval )\n",
    "\n",
    "        data = data.iloc[id_include]\n",
    "    return (data,n_ex)"
   ]
  },
  {
   "cell_type": "code",
   "execution_count": 12,
   "metadata": {},
   "outputs": [],
   "source": [
    "(discentes,n_excluded) =  dc_notin(discentes, ['estado','estado_origem'], [np.nan, 'Ignorado/exterior','Não Informado'])"
   ]
  },
  {
   "cell_type": "code",
   "execution_count": 13,
   "metadata": {},
   "outputs": [],
   "source": [
    "estado_decoder = lambda x: re.sub('[^a-z]','',unidecode(x.lower()))\n",
    "\n",
    "br_estados['estado_decoded'] = br_estados.NM_ESTADO.apply(estado_decoder)\n",
    "discentes['estado_decoded'] = discentes.estado.apply(estado_decoder)\n",
    "discentes['estado_origem_decoded'] = discentes.estado_origem.apply(estado_decoder)\n",
    "\n",
    "discentes = discentes.merge(br_estados[['CD_GEOCODU','estado_decoded']], left_on='estado_decoded', right_on='estado_decoded', suffixes=('','_br'))\n",
    "discentes = discentes.merge(br_estados[['CD_GEOCODU','estado_decoded']], left_on='estado_origem_decoded', right_on='estado_decoded', suffixes=('','_br'))"
   ]
  },
  {
   "cell_type": "code",
   "execution_count": 14,
   "metadata": {},
   "outputs": [],
   "source": [
    "br_geojson = {\n",
    "        'type' : 'FeatureCollection',\n",
    "        'features' : []\n",
    "    }\n",
    "\n",
    "for estado in br_estados.iloc:\n",
    "    if 'Mul' in str(estado.geometry.__class__):\n",
    "        coord = [list(map(lambda p: list(p), eg.exterior.coords)) for eg in estado.geometry]\n",
    "    else:\n",
    "        coord = [list(map(lambda p: list(p), estado.geometry.exterior.coords))]\n",
    "\n",
    "    d = {\n",
    "        'type' : 'Feature',\n",
    "        'id' : estado.CD_GEOCODU,\n",
    "        'properties' : {'name' : estado.NM_ESTADO},\n",
    "        'geometry' : {\n",
    "            'type' : 'Polygon',\n",
    "            'coordinates' : coord\n",
    "        }\n",
    "    }\n",
    "    br_geojson['features'].append(d)"
   ]
  },
  {
   "cell_type": "code",
   "execution_count": 15,
   "metadata": {},
   "outputs": [],
   "source": [
    "discentes_states = discentes.groupby(['CD_GEOCODU']).count()['id_discente']\n",
    "discentes_states_origin = discentes.groupby(['CD_GEOCODU_br']).count()['id_discente']\n",
    "\n",
    "dict_log = lambda d: {k:np.log10(v) for k,v in d.items()}\n",
    "\n",
    "layer_1_dict = discentes_states.to_dict()\n",
    "layer_2_dict = discentes_states_origin.to_dict()\n",
    "\n",
    "layer_1_dict = dict_log(layer_1_dict)\n",
    "layer_2_dict = dict_log(layer_2_dict)"
   ]
  },
  {
   "cell_type": "code",
   "execution_count": 16,
   "metadata": {},
   "outputs": [],
   "source": [
    "br_layer_1 = ipl.Choropleth(\n",
    "    geo_data=br_geojson,\n",
    "    choro_data=layer_1_dict,\n",
    "    colormap=linear.YlOrRd_04,\n",
    "    border_color='black',\n",
    "    style={'fillOpacity': 0.8, 'dashArray': '5, 5'},\n",
    "    hover_style={\n",
    "        'color': 'white', 'dashArray': '0', 'fillOpacity': 0.9\n",
    "    })"
   ]
  },
  {
   "cell_type": "code",
   "execution_count": 17,
   "metadata": {},
   "outputs": [
    {
     "data": {
      "application/vnd.jupyter.widget-view+json": {
       "model_id": "96dbe4cff79d459a9e960ea28a108c5e",
       "version_major": 2,
       "version_minor": 0
      },
      "text/plain": [
       "Map(center=[-20, -50], controls=(ZoomControl(options=['position', 'zoom_in_text', 'zoom_in_title', 'zoom_out_t…"
      ]
     },
     "metadata": {},
     "output_type": "display_data"
    }
   ],
   "source": [
    "m = ipl.Map(center = (-20,-50), zoom = 3)\n",
    "m.add_layer(br_layer)\n",
    "m.add_control(ipl.FullScreenControl())\n",
    "m"
   ]
  },
  {
   "cell_type": "code",
   "execution_count": 21,
   "metadata": {},
   "outputs": [],
   "source": [
    "br_layer_2 = ipl.Choropleth(\n",
    "    geo_data=br_geojson,\n",
    "    choro_data=layer_2_dict,\n",
    "    colormap=linear.YlOrRd_04,\n",
    "    border_color='black',\n",
    "    style={'fillOpacity': 0.8, 'dashArray': '5, 5'},\n",
    "    hover_style={\n",
    "        'color': 'white', 'dashArray': '0', 'fillOpacity': 0.9\n",
    "    })"
   ]
  },
  {
   "cell_type": "code",
   "execution_count": 22,
   "metadata": {},
   "outputs": [
    {
     "data": {
      "application/vnd.jupyter.widget-view+json": {
       "model_id": "923bd4d920f54b428d158617413da0f6",
       "version_major": 2,
       "version_minor": 0
      },
      "text/plain": [
       "Map(center=[-20, -50], controls=(ZoomControl(options=['position', 'zoom_in_text', 'zoom_in_title', 'zoom_out_t…"
      ]
     },
     "metadata": {},
     "output_type": "display_data"
    }
   ],
   "source": [
    "m2 = ipl.Map(center = (-20,-50), zoom = 3)\n",
    "m2.add_layer(br_layer_2)\n",
    "m2.add_control(ipl.FullScreenControl())\n",
    "m2"
   ]
  }
 ],
 "metadata": {
  "kernelspec": {
   "display_name": "Python 3",
   "language": "python",
   "name": "python3"
  },
  "language_info": {
   "codemirror_mode": {
    "name": "ipython",
    "version": 3
   },
   "file_extension": ".py",
   "mimetype": "text/x-python",
   "name": "python",
   "nbconvert_exporter": "python",
   "pygments_lexer": "ipython3",
   "version": "3.8.5"
  }
 },
 "nbformat": 4,
 "nbformat_minor": 4
}
