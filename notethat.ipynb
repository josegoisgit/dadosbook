{
 "cells": [
  {
   "cell_type": "markdown",
   "metadata": {},
   "source": [
    "## Lista a partir de lista de listas\n",
    "\n",
    "comprehension dos novos aos velhos\n"
   ]
  },
  {
   "cell_type": "code",
   "execution_count": 7,
   "metadata": {},
   "outputs": [
    {
     "data": {
      "text/plain": [
       "[23, 6, 5, 5, 4]"
      ]
     },
     "execution_count": 7,
     "metadata": {},
     "output_type": "execute_result"
    }
   ],
   "source": [
    "c = [[1,2,3],[23,6,5,5,4],[3,2,2,3]]\n",
    "\n",
    "n = [n for sub in c for n in sub if n > 3]\n",
    "n\n"
   ]
  },
  {
   "cell_type": "markdown",
   "metadata": {},
   "source": [
    "## Dictionaries and stars"
   ]
  },
  {
   "cell_type": "code",
   "execution_count": 24,
   "metadata": {},
   "outputs": [
    {
     "name": "stdout",
     "output_type": "stream",
     "text": [
      "{'a': 2, 'd': 3}\n"
     ]
    }
   ],
   "source": [
    "a = dict()\n",
    "b = {'a':2}\n",
    "c = {'d':3}\n",
    "\n",
    "print({**b,**c})"
   ]
  },
  {
   "cell_type": "markdown",
   "metadata": {},
   "source": [
    "## Kwargs and args to functions"
   ]
  },
  {
   "cell_type": "code",
   "execution_count": 19,
   "metadata": {},
   "outputs": [
    {
     "name": "stdout",
     "output_type": "stream",
     "text": [
      "6\n"
     ]
    }
   ],
   "source": [
    "def fcn(a=1,b=2,*args):\n",
    "    result = a + b\n",
    "    for arg in args:\n",
    "        result = result + arg        \n",
    "    return result\n",
    "    \n",
    "a = 1\n",
    "b = 2\n",
    "c = 3\n",
    "z = fcn(1,2,3)\n",
    "print(z)"
   ]
  },
  {
   "cell_type": "code",
   "execution_count": null,
   "metadata": {},
   "outputs": [],
   "source": [
    "def fcn(a=1,b=2,**kwargs):\n",
    "    result = a + b\n",
    "    \n",
    "    for key in kwargs:\n",
    "        result = result + kwargs[key]        \n",
    "    return result\n",
    "    \n",
    "a = 1\n",
    "b = 2\n",
    "c = 3\n",
    "z = fcn(1,2,c=3)\n",
    "print(z)"
   ]
  },
  {
   "cell_type": "code",
   "execution_count": 1,
   "metadata": {},
   "outputs": [
    {
     "name": "stdout",
     "output_type": "stream",
     "text": [
      "4\n"
     ]
    }
   ],
   "source": [
    "def fcn(a=1,b=2,*args,**kwargs):\n",
    "    result = a + b\n",
    "    \n",
    "    for arg in args:\n",
    "        result = result + arg\n",
    "    for key in kwargs:\n",
    "        result = result + kwargs[key]        \n",
    "    return result\n",
    "    \n",
    "a = 1\n",
    "b = 2\n",
    "c = 3\n",
    "z = fcn(1,1,-1,c=3)\n",
    "print(z)"
   ]
  },
  {
   "cell_type": "code",
   "execution_count": null,
   "metadata": {},
   "outputs": [],
   "source": []
  },
  {
   "cell_type": "code",
   "execution_count": 21,
   "metadata": {},
   "outputs": [
    {
     "ename": "SyntaxError",
     "evalue": "invalid syntax (<ipython-input-21-e7ccd02c27b1>, line 1)",
     "output_type": "error",
     "traceback": [
      "\u001b[1;36m  File \u001b[1;32m\"<ipython-input-21-e7ccd02c27b1>\"\u001b[1;36m, line \u001b[1;32m1\u001b[0m\n\u001b[1;33m    def fcn(a=1,b=2,**kwargs,*args):\u001b[0m\n\u001b[1;37m                             ^\u001b[0m\n\u001b[1;31mSyntaxError\u001b[0m\u001b[1;31m:\u001b[0m invalid syntax\n"
     ]
    }
   ],
   "source": [
    "def fcn(a=1,b=2,**kwargs,*args):\n",
    "    result = a + b\n",
    "    \n",
    "    for arg in args:\n",
    "        result = result + arg\n",
    "    for key in kwargs:\n",
    "        result = result + kwargs[key]        \n",
    "    return result\n",
    "    \n",
    "a = 1\n",
    "b = 2\n",
    "c = 3\n",
    "z = fcn(1,1,c=3,-1)\n",
    "print(z)\n"
   ]
  },
  {
   "cell_type": "markdown",
   "metadata": {},
   "source": [
    "### Wrapping functions"
   ]
  },
  {
   "cell_type": "code",
   "execution_count": null,
   "metadata": {},
   "outputs": [],
   "source": [
    "import numpy as np\n",
    "import pandas as pd\n",
    "\n",
    "def wrapper_fcn(fcn):\n",
    "    def auxiliar_fcn(*args):\n",
    "        new_args = []\n",
    "        #args = [arg for arg in args if not pd.isna(arg)]\n",
    "        args = filter(lambda arg: not pd.isna(arg) , args)\n",
    "        x = fcn(*args)\n",
    "        return x\n",
    "        \n",
    "    return auxiliar_fcn\n",
    "\n",
    "@wrapper_fcn\n",
    "def true_fcn(*args):\n",
    "    x = 0\n",
    "    for arg in args:\n",
    "        x = x + arg\n",
    "    return x\n",
    "\n",
    "true_fcn(1,2,3,4,5,7,8,9,np.NaN,4,5,6,np.nan)"
   ]
  },
  {
   "cell_type": "markdown",
   "metadata": {},
   "source": [
    "### Emptyness as false."
   ]
  },
  {
   "cell_type": "code",
   "execution_count": null,
   "metadata": {},
   "outputs": [],
   "source": [
    "data = []\n",
    "if data:\n",
    "    print('a')\n",
    "else:\n",
    "    print('b')"
   ]
  },
  {
   "cell_type": "markdown",
   "metadata": {},
   "source": [
    "### Copy depth"
   ]
  },
  {
   "cell_type": "code",
   "execution_count": 16,
   "metadata": {},
   "outputs": [
    {
     "name": "stdout",
     "output_type": "stream",
     "text": [
      "[1, 2, 3, 4, 5]\n",
      "[1, 2, 3, 4, 5]\n"
     ]
    }
   ],
   "source": [
    "a = [1,2,3,4]\n",
    "b = a\n",
    "b.extend([5])\n",
    "print(a)\n",
    "print(b)\n",
    "\n"
   ]
  },
  {
   "cell_type": "code",
   "execution_count": 17,
   "metadata": {},
   "outputs": [
    {
     "name": "stdout",
     "output_type": "stream",
     "text": [
      "[1, 2, 3, 4]\n",
      "[1, 2, 3, 4, 5]\n"
     ]
    }
   ],
   "source": [
    "a = [1,2,3,4]\n",
    "b = list(a)\n",
    "b.extend([5])\n",
    "print(a)\n",
    "print(b)"
   ]
  },
  {
   "cell_type": "markdown",
   "metadata": {},
   "source": [
    "### Bitwise inversion and negatives"
   ]
  },
  {
   "cell_type": "code",
   "execution_count": 2,
   "metadata": {},
   "outputs": [
    {
     "name": "stdout",
     "output_type": "stream",
     "text": [
      "a <PandasArray>\n",
      "[1.0, 2.0, nan, 3.0, 4.0]\n",
      "Length: 5, dtype: float64\n",
      "b [1.0, 2.0, 3.0, 4.0]\n",
      "c [1.0, 2.0, nan, 3.0, 4.0]\n",
      "d [1.0, 2.0, 3.0, 4.0]\n"
     ]
    }
   ],
   "source": [
    "import numpy as np\n",
    "import pandas as pd\n",
    "a = pd.array([1,2,np.nan,3,4],dtype='float64')\n",
    "b = [a for a in a if not pd.isna(a)]\n",
    "c = [a for a in a if ~pd.isna(a)]\n",
    "d = [a for a in a if pd.isna(a) == False]\n",
    "print('a',a)\n",
    "print('b',b)\n",
    "print('c',c)\n",
    "print('d',d)"
   ]
  },
  {
   "cell_type": "code",
   "execution_count": 15,
   "metadata": {},
   "outputs": [
    {
     "name": "stdout",
     "output_type": "stream",
     "text": [
      "~True:  -2\n",
      "~False:  -1\n",
      "~~True:  1\n",
      "~~False:  0\n"
     ]
    }
   ],
   "source": [
    "print('~True: ', ~True)\n",
    "print('~False: ', ~False)\n",
    "print('~~True: ', ~~True)\n",
    "print('~~False: ', ~~False)"
   ]
  },
  {
   "cell_type": "markdown",
   "metadata": {},
   "source": [
    "~True:  -2\n",
    "\n",
    "~False:  -1\n",
    "\n",
    "~~True:  1\n",
    "\n",
    "~~False:  0"
   ]
  }
 ],
 "metadata": {
  "kernelspec": {
   "display_name": "Python 3",
   "language": "python",
   "name": "python3"
  },
  "language_info": {
   "codemirror_mode": {
    "name": "ipython",
    "version": 3
   },
   "file_extension": ".py",
   "mimetype": "text/x-python",
   "name": "python",
   "nbconvert_exporter": "python",
   "pygments_lexer": "ipython3",
   "version": "3.8.5"
  }
 },
 "nbformat": 4,
 "nbformat_minor": 4
}
