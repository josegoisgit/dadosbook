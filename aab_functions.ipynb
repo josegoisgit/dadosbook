{
 "cells": [
  {
   "cell_type": "code",
   "execution_count": 4,
   "metadata": {},
   "outputs": [],
   "source": [
    "%run -i ./startup.py"
   ]
  },
  {
   "cell_type": "code",
   "execution_count": 11,
   "metadata": {},
   "outputs": [
    {
     "name": "stdout",
     "output_type": "stream",
     "text": [
      "Overwriting /dev/notebook/dc_transform.py\n"
     ]
    }
   ],
   "source": [
    "%%writefile /dev/notebook/dc_transform.py\n",
    "# %load /dev/notebook/dc_transform.py\n",
    "def dc_transform (db = 'ufrn_wait',dc = 'turmas', key_types={}):\n",
    "    dbc = db+'/'+dc\n",
    "    dc_data = dc_join.dict[dbc]['data']\n",
    "    \n",
    "    for key in dc_data:\n",
    "        for key_type in key_types:\n",
    "            print(key, key_type)\n",
    "            if key.startswith(key_type):\n",
    "                key_fcn,key_data,key_args = key_types[key_type];\n",
    "                for arg in key_args:\n",
    "                    key_fcn_args = { **{ key_data : dc_data[key] } , **arg }\n",
    "                    dc_data[key] = key_fcn( **key_fcn_args )\n",
    "                break\n",
    "    dc_join.dict[dbc]['key_types'] = key_types\n"
   ]
  },
  {
   "cell_type": "code",
   "execution_count": null,
   "metadata": {},
   "outputs": [],
   "source": [
    "%%writefile /dev/source/dadosbook/functions/dc_join.py\n",
    "# %load /dev/notebook/dc_join.py\n",
    "def dc_join(db='ufrn_wait',dc='turmas',num=[],**kwargs):\n",
    "\n",
    "    import re\n",
    "\n",
    "    if not hasattr(dc_join,'dict'):\n",
    "        dc_join.dict = {}\n",
    "    if not 'key_types' in kwargs:\n",
    "        key_types = {}\n",
    "    if not 'ignore_index' in kwargs:\n",
    "        ignore_index = True\n",
    "\n",
    "    db_folder_fcn = lambda db,dc : '/data/%s' % (db)\n",
    "    db_folder     = db_folder_fcn(db,dc)\n",
    "\n",
    "    db_folders = os.listdir(db_folder)\n",
    "    dc_folders = [db_folder+'/'+folder for folder in db_folders if re.findall(dc,folder)]\n",
    "    dc_files = [dc_folder+'/'+dc_file for dc_folder in dc_folders for dc_file in os.listdir(dc_folder)]\n",
    "    csv_files = [dc_file for dc_file in dc_files if dc_file.endswith('.csv')]\n",
    "\n",
    "    dc_data = pd.concat([pd.read_csv(csv,sep=';') for csv in csv_files], ignore_index=ignore_index)\n",
    "    \n",
    "    dc = re.sub('[^\\w]','',dc)\n",
    "    dbc = db+'/'+dc\n",
    "    \n",
    "    dc_join.dict[dbc] = {'folder':dc_folders, 'csv_files': csv_files, 'db':db, 'dc':dc, 'data':dc_data}\n",
    "\n",
    "    dc_transform(db = db, dc = dc, key_types=key_types)\n",
    "\n",
    "    return dc_data\n"
   ]
  },
  {
   "cell_type": "code",
   "execution_count": 13,
   "metadata": {},
   "outputs": [
    {
     "name": "stdout",
     "output_type": "stream",
     "text": [
      "Overwriting /dev/notebook/dc_dict_merge.py\n"
     ]
    }
   ],
   "source": [
    "%%writefile /dev/notebook/dc_dict_merge.py\n",
    "# %load /dev/notebook/dc_dict_merge.py\n",
    "def dc_dict_merge(dc_formed, dc_list, data=[], db='ufrn_wait'):\n",
    "    if not ( db + '/' + dc_formed ) in dc_join.dict.keys():\n",
    "        _list_dict = []\n",
    "        \n",
    "        _keys_dc = []\n",
    "        for dc in dc_list:\n",
    "            key = db + '/' + dc\n",
    "            if key in dc_join.dict\n",
    "                _keys_dc.extend( dc_join.dict[key].keys() )\n",
    "            else:\n",
    "                print('%s is not in dc_join.dict keys.' % ( key ) )        \n",
    "        \n",
    "        _formed_dict = {}\n",
    "        for key in pd.unique(_keys_dc):\n",
    "            _formed_dict[key] = []\n",
    "            for dc in dc_list:    \n",
    "                _formed_dict.append( dc_join.dict[dc][key] )\n",
    "\n",
    "        \n",
    "        if data:\n",
    "            _cursos_dict['data'] = dc_cursos\n",
    "        dc_join.dict['ufrn_wait/cursos'] = _cursos_dict\n",
    "\n",
    "        \n",
    "    for dc in cursos_dc:\n",
    "        try:\n",
    "            dc_join.dict.pop('ufrn_wait/'+dc)\n",
    "        except:\n",
    "            print('.')"
   ]
  },
  {
   "cell_type": "code",
   "execution_count": 20,
   "metadata": {},
   "outputs": [
    {
     "name": "stdout",
     "output_type": "stream",
     "text": [
      "Appending to ./startup.py\n"
     ]
    }
   ],
   "source": [
    "%%writefile -a ./startup.py\n",
    "exec(open('./functions/dc_join.py').read())\n",
    "exec(open('./functions/dc_transform.py').read())\n",
    "exec(open('./functions/dc_dict_merge.py').read())"
   ]
  }
 ],
 "metadata": {
  "kernelspec": {
   "display_name": "Python 3",
   "language": "python",
   "name": "python3"
  },
  "language_info": {
   "codemirror_mode": {
    "name": "ipython",
    "version": 3
   },
   "file_extension": ".py",
   "mimetype": "text/x-python",
   "name": "python",
   "nbconvert_exporter": "python",
   "pygments_lexer": "ipython3",
   "version": "3.8.5"
  }
 },
 "nbformat": 4,
 "nbformat_minor": 4
}
