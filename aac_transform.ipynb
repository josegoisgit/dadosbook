{
 "cells": [
  {
   "cell_type": "code",
   "execution_count": 4,
   "metadata": {},
   "outputs": [
    {
     "name": "stdout",
     "output_type": "stream",
     "text": [
      "^cursos*\n",
      "estruturas_curriculares\n",
      "curriculo_componente\n",
      "componentes_curriculares\n",
      "turmas\n",
      "matriculas_em_componentes\n"
     ]
    }
   ],
   "source": [
    "\n",
    "%run -i ./startup.py\n",
    "\n",
    "%run -i ./functions/dc_transform.py\n",
    "\n",
    "%run -i ./functions/dc_join.py\n",
    "\n",
    "data_collections = ['^cursos*','estruturas_curriculares','curriculo_componente','componentes_curriculares','turmas','matriculas_em_componentes']\n",
    "\n",
    "for dc in data_collections:\n",
    "    print(dc)\n",
    "    dc_join(db=db,dc=dc)\n"
   ]
  },
  {
   "cell_type": "code",
   "execution_count": 5,
   "metadata": {},
   "outputs": [
    {
     "name": "stdout",
     "output_type": "stream",
     "text": [
      "ufrn_wait/cursos                   ['id_curso', 'id_coordenador', 'id_unidade_responsavel']\n",
      "ufrn_wait/estruturas_curriculares  ['id_curriculo', 'id_curso']\n",
      "ufrn_wait/curriculo_componente     ['id_curriculo_componente', 'id_curriculo', 'id_componente_curricular']\n",
      "ufrn_wait/componentes_curriculares ['id_componente']\n",
      "ufrn_wait/turmas                   ['id_turma', 'id_componente_curricular', 'id_turma_agrupadora']\n",
      "ufrn_wait/matriculas_em_componentes['id_turma', 'id_curso']\n"
     ]
    }
   ],
   "source": [
    "import re\n",
    "for dcb in dc_join.dict.keys():\n",
    "    print('%-35s' % dcb,end='') # %-35s : varchar 35 alinhado à esquerda\n",
    "    c = []\n",
    "    for k in dc_join.dict[dcb]['data'].keys():\n",
    "        if re.findall('^id_.*',k):\n",
    "            dc_join.dict[dcb]['data'][k] = dc_join.dict[dcb]['data'][k].astype('Int64')\n",
    "            c.append(k)\n",
    "\n",
    "    print(c,end='')\n",
    "    print('')"
   ]
  },
  {
   "cell_type": "code",
   "execution_count": 6,
   "metadata": {},
   "outputs": [],
   "source": [
    "dc = dc_join.dict\n",
    "\n",
    "cursos                   = dc['ufrn_wait/cursos']['data']\n",
    "estruturas_curriculares  = dc['ufrn_wait/estruturas_curriculares']['data']\n",
    "curriculo_componente     = dc['ufrn_wait/curriculo_componente']['data']\n",
    "componentes_curriculares = dc['ufrn_wait/componentes_curriculares']['data']\n",
    "turmas                   = dc['ufrn_wait/turmas']['data']\n",
    "matriculas_componentes   = dc['ufrn_wait/matriculas_em_componentes']['data']"
   ]
  },
  {
   "cell_type": "markdown",
   "metadata": {},
   "source": [
    "### Análise de notas por estrutura curricular"
   ]
  },
  {
   "cell_type": "code",
   "execution_count": 8,
   "metadata": {},
   "outputs": [],
   "source": [
    "import numpy as np"
   ]
  },
  {
   "cell_type": "code",
   "execution_count": 86,
   "metadata": {},
   "outputs": [
    {
     "data": {
      "text/html": [
       "<div>\n",
       "<style scoped>\n",
       "    .dataframe tbody tr th:only-of-type {\n",
       "        vertical-align: middle;\n",
       "    }\n",
       "\n",
       "    .dataframe tbody tr th {\n",
       "        vertical-align: top;\n",
       "    }\n",
       "\n",
       "    .dataframe thead th {\n",
       "        text-align: right;\n",
       "    }\n",
       "</style>\n",
       "<table border=\"1\" class=\"dataframe\">\n",
       "  <thead>\n",
       "    <tr style=\"text-align: right;\">\n",
       "      <th></th>\n",
       "      <th>index</th>\n",
       "      <th>id_curso</th>\n",
       "      <th>nome</th>\n",
       "      <th>id_coordenador</th>\n",
       "      <th>coordenador</th>\n",
       "      <th>situacao_curso</th>\n",
       "      <th>nivel_ensino</th>\n",
       "      <th>grau_academico</th>\n",
       "      <th>modalidade_educacao</th>\n",
       "      <th>area_conhecimento</th>\n",
       "      <th>...</th>\n",
       "      <th>unidade_responsavel</th>\n",
       "      <th>website</th>\n",
       "      <th>data_funcionamento</th>\n",
       "      <th>codigo_inep</th>\n",
       "      <th>dou</th>\n",
       "      <th>portaria_reconhecimento</th>\n",
       "      <th>convenio_academico</th>\n",
       "      <th>programa</th>\n",
       "      <th>portaria</th>\n",
       "      <th>conceito</th>\n",
       "    </tr>\n",
       "  </thead>\n",
       "  <tbody>\n",
       "    <tr>\n",
       "      <th>0</th>\n",
       "      <td>1140</td>\n",
       "      <td>92127264</td>\n",
       "      <td>TECNOLOGIA DA INFORMAÇÃO</td>\n",
       "      <td>5756813</td>\n",
       "      <td>RAFAELA HORACINA SILVA ROCHA SOARES</td>\n",
       "      <td>ATIVO</td>\n",
       "      <td>GRADUAÇÃO</td>\n",
       "      <td>BACHARELADO</td>\n",
       "      <td>Presencial</td>\n",
       "      <td>Ciências Exatas e da Terra</td>\n",
       "      <td>...</td>\n",
       "      <td>INSTITUTO METROPOLE DIGITAL</td>\n",
       "      <td>NaN</td>\n",
       "      <td>NaN</td>\n",
       "      <td>1190414.0</td>\n",
       "      <td>2016/05/02 00:00:00.000</td>\n",
       "      <td>Portaria nº 127/2016 - MEC</td>\n",
       "      <td>NaN</td>\n",
       "      <td>NaN</td>\n",
       "      <td>NaN</td>\n",
       "      <td>NaN</td>\n",
       "    </tr>\n",
       "    <tr>\n",
       "      <th>1</th>\n",
       "      <td>1273</td>\n",
       "      <td>92127264</td>\n",
       "      <td>TECNOLOGIA DA INFORMAÇÃO</td>\n",
       "      <td>5757620</td>\n",
       "      <td>ISABEL DILLMANN NUNES</td>\n",
       "      <td>ATIVO</td>\n",
       "      <td>GRADUAÇÃO</td>\n",
       "      <td>BACHARELADO</td>\n",
       "      <td>Presencial</td>\n",
       "      <td>Ciências Exatas e da Terra</td>\n",
       "      <td>...</td>\n",
       "      <td>INSTITUTO METROPOLE DIGITAL</td>\n",
       "      <td>NaN</td>\n",
       "      <td>NaN</td>\n",
       "      <td>1190414.0</td>\n",
       "      <td>2016/05/02 00:00:00.000</td>\n",
       "      <td>Portaria nº 127/2016 - MEC</td>\n",
       "      <td>NaN</td>\n",
       "      <td>NaN</td>\n",
       "      <td>NaN</td>\n",
       "      <td>NaN</td>\n",
       "    </tr>\n",
       "  </tbody>\n",
       "</table>\n",
       "<p>2 rows × 26 columns</p>\n",
       "</div>"
      ],
      "text/plain": [
       "   index  id_curso                      nome  id_coordenador  \\\n",
       "0   1140  92127264  TECNOLOGIA DA INFORMAÇÃO         5756813   \n",
       "1   1273  92127264  TECNOLOGIA DA INFORMAÇÃO         5757620   \n",
       "\n",
       "                           coordenador situacao_curso nivel_ensino  \\\n",
       "0  RAFAELA HORACINA SILVA ROCHA SOARES          ATIVO    GRADUAÇÃO   \n",
       "1                ISABEL DILLMANN NUNES          ATIVO    GRADUAÇÃO   \n",
       "\n",
       "  grau_academico modalidade_educacao           area_conhecimento  ...  \\\n",
       "0    BACHARELADO          Presencial  Ciências Exatas e da Terra  ...   \n",
       "1    BACHARELADO          Presencial  Ciências Exatas e da Terra  ...   \n",
       "\n",
       "           unidade_responsavel website data_funcionamento codigo_inep  \\\n",
       "0  INSTITUTO METROPOLE DIGITAL     NaN                NaN   1190414.0   \n",
       "1  INSTITUTO METROPOLE DIGITAL     NaN                NaN   1190414.0   \n",
       "\n",
       "                       dou     portaria_reconhecimento convenio_academico  \\\n",
       "0  2016/05/02 00:00:00.000  Portaria nº 127/2016 - MEC                NaN   \n",
       "1  2016/05/02 00:00:00.000  Portaria nº 127/2016 - MEC                NaN   \n",
       "\n",
       "  programa portaria  conceito  \n",
       "0      NaN      NaN       NaN  \n",
       "1      NaN      NaN       NaN  \n",
       "\n",
       "[2 rows x 26 columns]"
      ]
     },
     "execution_count": 86,
     "metadata": {},
     "output_type": "execute_result"
    }
   ],
   "source": []
  },
  {
   "cell_type": "code",
   "execution_count": 87,
   "metadata": {},
   "outputs": [
    {
     "name": "stdout",
     "output_type": "stream",
     "text": [
      "2009 2010 2011 2012 2013 2014 2015 2016 2017 2018 2019 2020 "
     ]
    }
   ],
   "source": [
    "getin = lambda df,i,v: df[df[i].isin(v.unique())].reset_index(drop=True)\n",
    "getre = lambda df,i,v: df[df[i].isin(list(filter(lambda i : re.findall(v,i),df[i])))].reset_index(drop=True)\n",
    "\n",
    "#qri_curso        = getre(cursos,'nome','^CIÊNCIA.*LOGIA')\n",
    "qri_curso        = getre(cursos,'nome','^TEC.*INFORMAÇÃO$')\n",
    "\n",
    "qri_curso_ec     = getin(estruturas_curriculares, 'id_curso',qri_curso.id_curso)\n",
    "qri_curso_cc     = getin(curriculo_componente,'id_curriculo',qri_curso_ec.id_curriculo)\n",
    "qri_curso_ccc    = getin(componentes_curriculares,'id_componente',qri_curso_cc.id_componente_curricular)\n",
    "qri_curso_turmas = getin(turmas,'id_componente_curricular',qri_curso_ccc.id_componente)\n",
    "qri_curso_mc     = getin(matriculas_componentes,'id_turma',qri_curso_turmas.id_turma)\n",
    "\n",
    "qri_curso_turmas_unique = qri_curso_turmas[~qri_curso_turmas.id_turma.duplicated()]\n",
    "\n",
    "A = qri_curso_turmas_unique[['id_turma','id_componente_curricular','ano','periodo','situacao_turma']]\n",
    "B = qri_curso_mc\n",
    "C = pd.merge(A,B,on=['id_turma'])\n",
    "D = qri_curso_ccc[['id_componente','codigo','modalidade','nome']]\n",
    "D = D.rename(columns={'id_componente':'id_componente_curricular'})\n",
    "D = pd.merge(C,D,on=['id_componente_curricular'])\n",
    "D = D[D['situacao_turma']=='CONSOLIDADA']\n",
    "\n",
    "nota2float = lambda nota : float(nota.replace(',','.')) if isinstance(nota,str) else nota\n",
    "\n",
    "D.nota                = D.nota.transform(nota2float)\n",
    "D.media_final         = D.media_final.transform(nota2float)\n",
    "D.unidade             = D.unidade.astype('Int64')\n",
    "D.faltas_unidade      = D.faltas_unidade.astype('Int64')\n",
    "D.numero_total_faltas = D.numero_total_faltas.astype('Int64')\n",
    "\n",
    "E = D[['id_turma','id_componente_curricular','descricao','ano','periodo','unidade','nota','faltas_unidade','nome','id_curso','discente']]\n",
    "E = E.sort_values(by=['ano','periodo','nome'])\n",
    "\n",
    "# u_ unique values\n",
    "# n_ number of values\n",
    "# i_ index dict\n",
    "\n",
    "n_i = E.id_componente_curricular.nunique()\n",
    "#n_a = E.ano.nunique()\n",
    "#n_p = E.periodo.nunique()\n",
    "n_ap = (E.ano*10 + E.periodo).unique().size\n",
    "n_u = E.unidade.nunique()\n",
    "\n",
    "i_e = {k:v for v,k in enumerate(E.id_componente_curricular.unique())}\n",
    "\n",
    "c = 0\n",
    "\n",
    "notas_componentes    = np.empty((n_i, n_ap, n_u, 8))\n",
    "notas_componentes[:] = np.nan\n",
    "description_keys = ['count', 'mean', 'std', 'min', '25%', '50%', '75%', 'max']\n",
    "\n",
    "c = 0\n",
    "apk = 0\n",
    "ap_dict = {}\n",
    "for a,ano in enumerate(E.ano.unique()):\n",
    "    _a = E[E.ano==ano]\n",
    "    print(ano,end=' ')\n",
    "    for p,periodo in enumerate(_a.periodo.unique()):\n",
    "        _ap = _a[_a.periodo==periodo];\n",
    "        u_i = _ap.id_turma.unique()\n",
    "        \n",
    "        ap_key = ano*10+periodo\n",
    "        if not ap_key in ap_dict:\n",
    "            ap_dict[ap_key] = apk\n",
    "            apk = apk + 1;\n",
    "        \n",
    "        ap = ap_dict[ap_key] \n",
    "            \n",
    "        for t,turma_id in enumerate(u_i):\n",
    "            _apt = _ap[_ap.id_turma == turma_id];\n",
    "            _apt = _apt[~(_apt.descricao == 'INDEFERIDO')]\n",
    "            _apt = _apt[~pd.isna(_apt.unidade)]\n",
    "            \n",
    "            for u,unidade in enumerate(_apt.unidade.unique()):\n",
    "                _aptu = _apt[(_apt.unidade == unidade)]\n",
    "                i = i_e[_aptu.id_componente_curricular.iloc[0]]\n",
    "                \n",
    "                if _aptu.nota.size:\n",
    "                    n_d = _aptu.size\n",
    "                    notas_componentes[i][ap][u] = _aptu.nota.describe()\n",
    "                    \n",
    "                    c = c + 1\n",
    "\n",
    "pa_dict = {ap_dict[k]:k for k in ap_dict.keys()}"
   ]
  },
  {
   "cell_type": "code",
   "execution_count": 88,
   "metadata": {},
   "outputs": [],
   "source": [
    "from matplotlib import pyplot as plt\n",
    "import seaborn as sns"
   ]
  },
  {
   "cell_type": "code",
   "execution_count": 89,
   "metadata": {},
   "outputs": [],
   "source": [
    "kap = lambda k : str(k//10) + '.' + str(k - (k//10)*10)\n",
    "\n",
    "periodo_labels = [kap(k) for k in ap_dict.keys()]\n",
    "periodo_n      = len(periodo_labels)\n",
    "periodo_ticks  = np.arange(periodo_n)"
   ]
  },
  {
   "cell_type": "code",
   "execution_count": 93,
   "metadata": {},
   "outputs": [],
   "source": [
    "nota_bin_diff    = .1\n",
    "nota_bin_edges   = np.arange(-nota_bin_diff,10+nota_bin_diff,nota_bin_diff)\n",
    "nota_bin_edges_n = nota_bin_edges.size\n",
    "\n",
    "nota_bin_center = [np.mean(nota_bin_edges[i:i+2]) for i in range(nota_bin_edges_n-1)]\n",
    "\n",
    "nota_bin_ticks_n         = nota_bin_edges_n-1\n",
    "nota_bin_ticks           = np.arange(nota_bin_ticks_n)\n",
    "nota_bin_tlabels_inteval = ['(%.1f, %2.1f]' % tuple(nota_bin_edges[i:i+2]) for i in range(nota_bin_ticks_n)]\n",
    "nota_bin_tlabels_center  = ['%.1f' % np.mean(nota_bin_edges[i:i+2]) for i in range(nota_bin_ticks_n)]\n",
    "nota_bin_tlabels_closed  = ['%.1f' % nota_bin_edges[i+1] for i in range(nota_bin_ticks_n)]"
   ]
  },
  {
   "cell_type": "code",
   "execution_count": 106,
   "metadata": {},
   "outputs": [],
   "source": []
  },
  {
   "cell_type": "code",
   "execution_count": 149,
   "metadata": {},
   "outputs": [
    {
     "name": "stderr",
     "output_type": "stream",
     "text": [
      "<ipython-input-149-18f0e1b97a0e>:1: RuntimeWarning: Mean of empty slice\n",
      "  np.nanmean(np.nanmean(notas_componentes[:,:,:,1],axis=2),axis=1)\n"
     ]
    },
    {
     "data": {
      "text/plain": [
       "array([ 8.48444444,  5.63871045,  5.86361243,  4.64622569,  6.63787181,\n",
       "        5.84273044,  7.09047619,  6.0673517 ,  4.80544953,  4.38053412,\n",
       "        3.79338449,  5.20026742,  6.26248419,  6.12725847,  7.14348148,\n",
       "        7.01388889,  6.06139704,  6.54983884,  6.75346093,  5.58888889,\n",
       "        7.92837302,  6.88250096,  6.05079365,  5.51536267,  8.19886775,\n",
       "        7.23333333,  6.34814815,  7.11817296,  5.68686483,  7.38531205,\n",
       "        6.84442708,  6.77809491,  5.66909839,  5.17032554,  4.75344886,\n",
       "        5.9934228 ,  7.89063959,  7.3445709 ,  5.37765131,  6.72443899,\n",
       "        7.28689735,  6.59556552,  5.45530864,  6.7917118 ,  6.43955127,\n",
       "        5.64550095,  7.36707358,  6.76524735,  5.99409188,  6.0792438 ,\n",
       "        8.01597831,  6.90496837,  7.05395589,  3.61228725,  6.23509804,\n",
       "        6.68262216,  5.65449072,  3.0943484 ,  2.5237458 ,  5.63191001,\n",
       "        5.34906163,  6.05710492,  5.91736172,  6.49375858,  5.68461959,\n",
       "        7.53821466,  6.33794753,  3.55943968,  5.61740555,  7.0160446 ,\n",
       "        3.79683442,  5.66801807,  5.51138298,  7.00287588,  4.31137136,\n",
       "        4.07144994,  5.26276804,  5.68263889,  6.57297271,  6.16333397,\n",
       "        6.73193884,  5.15243074,  5.5247299 ,  7.34256523,  4.457     ,\n",
       "        7.27034449,  6.52581666,  6.04562172,  5.58333333,  6.89015873,\n",
       "        7.10915636,  7.36666667,  7.32593971,  5.92351102,  5.68489012,\n",
       "        6.17696581,  4.4568755 ,  5.99498487,  7.94674185,  4.78964689,\n",
       "        6.12145447,  8.14375   ,  6.39550505,  6.3437037 ,  7.73606508,\n",
       "        5.24761905,  7.63279781,  6.67495211,  7.60691527,  7.34285714,\n",
       "        4.82348485,  6.28707705,  6.41666667,  6.02247529,  6.61124406,\n",
       "        8.02504423,  1.44444444,  6.55674145,  6.17735797,  6.34636635,\n",
       "        7.4319382 ,  6.07083333,  6.28547758,  5.93041005,  6.82623457,\n",
       "        7.65396825,  4.80916667, 10.        ,  7.84166667,  8.56666667,\n",
       "        6.89178922,  5.47812434,  6.21865211,  8.12707231,  6.67083333,\n",
       "        4.93421856,  7.54902001,  6.85042659,  7.15833333,  7.77914815,\n",
       "        5.11640232,  6.09518841,  7.67225618,  5.975     ,  6.99851852,\n",
       "        7.22916667,  6.31111111,  0.02222222,  8.96085859,  5.73939394,\n",
       "        4.89411765,  4.8662989 ,  7.11723509,  6.49577883,  5.89672765,\n",
       "        6.35148555,  4.97253623, 10.        ,  4.85294118,  4.36422615,\n",
       "        4.74552891,  8.40132081,  1.67777778,  4.725     ,  7.19947598,\n",
       "        6.5803716 ,  4.02820513,  6.68333333,  5.99166667,  1.60833333,\n",
       "        8.5       ,  7.11      ,  5.30606061,  7.18484848,  5.54444444,\n",
       "        6.19040373,  6.145     ,  8.93764029,  6.77166667,  7.72256173,\n",
       "        6.24547828,  5.36666667,  5.95833333,  7.58460979,  8.3745098 ,\n",
       "        6.36324786,  5.65714286,  6.82916667,  8.28888889,  6.59270833,\n",
       "        4.85772637,  9.05125272,  3.55663416,  4.03965243,  7.37847826,\n",
       "        5.59762147,  6.14146774,  5.1180008 ,  9.1875    ,  7.91005961,\n",
       "        7.53148148,  6.86212121,  7.25922619,  8.32507835,  6.04571429,\n",
       "        8.27894737,  5.87388468,  4.59263921,  6.83682432,  4.94831197,\n",
       "        7.3944439 ,  7.45388784,  6.66666667,  6.99382716,  7.48888889,\n",
       "        5.69315315,  4.55381371,  6.07192982,  6.33555556,  8.82222222,\n",
       "        5.99542607,  5.98194444,  4.73808156,  5.32888889,  6.26423002,\n",
       "        7.1954359 ,  5.81269592,  6.18571429,  7.79230769,  4.19317739,\n",
       "        3.11191554,  4.725     ,  8.11111111,  6.38064516,         nan,\n",
       "        6.23611111,  7.08241107,  8.48611111,  7.17777778,  4.95252525,\n",
       "        7.76527778])"
      ]
     },
     "execution_count": 149,
     "metadata": {},
     "output_type": "execute_result"
    }
   ],
   "source": [
    "np.nanmean(np.nanmean(notas_componentes[:,:,:,1],axis=2),axis=1)"
   ]
  },
  {
   "cell_type": "code",
   "execution_count": 146,
   "metadata": {},
   "outputs": [
    {
     "name": "stderr",
     "output_type": "stream",
     "text": [
      "<ipython-input-146-540865896497>:1: RuntimeWarning: Mean of empty slice\n",
      "  data = np.histogram(np.nanmean(np.nanmean(notas_componentes[:,:,:,1],axis=2),axis=1),nota_bin_edges)\n"
     ]
    },
    {
     "data": {
      "application/vnd.jupyter.widget-view+json": {
       "model_id": "66f9fc19f28247e4a08d1acf0369ae5c",
       "version_major": 2,
       "version_minor": 0
      },
      "text/plain": [
       "Canvas(toolbar=Toolbar(toolitems=[('Home', 'Reset original view', 'home', 'home'), ('Back', 'Back to previous …"
      ]
     },
     "metadata": {},
     "output_type": "display_data"
    },
    {
     "data": {
      "text/plain": [
       "(0.0, 15.0)"
      ]
     },
     "execution_count": 146,
     "metadata": {},
     "output_type": "execute_result"
    }
   ],
   "source": [
    "data = np.histogram(np.nanmean(np.nanmean(notas_componentes[:,:,:,1],axis=2),axis=1),nota_bin_edges)\n",
    "\n",
    "%matplotlib widget\n",
    "\n",
    "plt.close(1)\n",
    "sns.set_theme(context='notebook',palette='colorblind',style='ticks')\n",
    "\n",
    "fig,ax = plt.subplots(1,1,figsize=(15.5,5),num=1)\n",
    "h_bar = sns.barplot(x=data[1][1:], y=data[0],ax=ax,facecolor=(1,1,1),edgecolor=(0,0,0))\n",
    "\n",
    "for n,nlbl in enumerate(nota_bin_tlabels_closed):\n",
    "    if len(nlbl) and nlbl[-1]!='0':\n",
    "        nota_bin_tlabels_closed[n] = ''\n",
    "xtl = ax.set_xticklabels(nota_bin_tlabels_closed)\n",
    "\n",
    "ax.set_ylabel('Número de componentes')\n",
    "ax.set_xlabel('Média das notas')\n",
    "ax.set_title('Nota média dos componentes do BTI')\n",
    "ax.set_position((.1,.3,.8,.6))\n",
    "\n",
    "ax.set_ylim((0,15))"
   ]
  },
  {
   "cell_type": "code",
   "execution_count": 150,
   "metadata": {},
   "outputs": [
    {
     "data": {
      "text/plain": [
       "[Text(0, 0, '0.0'),\n",
       " Text(1, 0, ''),\n",
       " Text(2, 0, ''),\n",
       " Text(3, 0, ''),\n",
       " Text(4, 0, ''),\n",
       " Text(5, 0, ''),\n",
       " Text(6, 0, ''),\n",
       " Text(7, 0, ''),\n",
       " Text(8, 0, ''),\n",
       " Text(9, 0, ''),\n",
       " Text(10, 0, '1.0'),\n",
       " Text(11, 0, ''),\n",
       " Text(12, 0, ''),\n",
       " Text(13, 0, ''),\n",
       " Text(14, 0, ''),\n",
       " Text(15, 0, ''),\n",
       " Text(16, 0, ''),\n",
       " Text(17, 0, ''),\n",
       " Text(18, 0, ''),\n",
       " Text(19, 0, ''),\n",
       " Text(20, 0, '2.0'),\n",
       " Text(21, 0, ''),\n",
       " Text(22, 0, ''),\n",
       " Text(23, 0, ''),\n",
       " Text(24, 0, ''),\n",
       " Text(25, 0, ''),\n",
       " Text(26, 0, ''),\n",
       " Text(27, 0, ''),\n",
       " Text(28, 0, ''),\n",
       " Text(29, 0, ''),\n",
       " Text(30, 0, '3.0'),\n",
       " Text(31, 0, ''),\n",
       " Text(32, 0, ''),\n",
       " Text(33, 0, ''),\n",
       " Text(34, 0, ''),\n",
       " Text(35, 0, ''),\n",
       " Text(36, 0, ''),\n",
       " Text(37, 0, ''),\n",
       " Text(38, 0, ''),\n",
       " Text(39, 0, ''),\n",
       " Text(40, 0, '4.0'),\n",
       " Text(41, 0, ''),\n",
       " Text(42, 0, ''),\n",
       " Text(43, 0, ''),\n",
       " Text(44, 0, ''),\n",
       " Text(45, 0, ''),\n",
       " Text(46, 0, ''),\n",
       " Text(47, 0, ''),\n",
       " Text(48, 0, ''),\n",
       " Text(49, 0, ''),\n",
       " Text(50, 0, '5.0'),\n",
       " Text(51, 0, ''),\n",
       " Text(52, 0, ''),\n",
       " Text(53, 0, ''),\n",
       " Text(54, 0, ''),\n",
       " Text(55, 0, ''),\n",
       " Text(56, 0, ''),\n",
       " Text(57, 0, ''),\n",
       " Text(58, 0, ''),\n",
       " Text(59, 0, ''),\n",
       " Text(60, 0, '6.0'),\n",
       " Text(61, 0, ''),\n",
       " Text(62, 0, ''),\n",
       " Text(63, 0, ''),\n",
       " Text(64, 0, ''),\n",
       " Text(65, 0, ''),\n",
       " Text(66, 0, ''),\n",
       " Text(67, 0, ''),\n",
       " Text(68, 0, ''),\n",
       " Text(69, 0, ''),\n",
       " Text(70, 0, '7.0'),\n",
       " Text(71, 0, ''),\n",
       " Text(72, 0, ''),\n",
       " Text(73, 0, ''),\n",
       " Text(74, 0, ''),\n",
       " Text(75, 0, ''),\n",
       " Text(76, 0, ''),\n",
       " Text(77, 0, ''),\n",
       " Text(78, 0, ''),\n",
       " Text(79, 0, ''),\n",
       " Text(80, 0, '8.0'),\n",
       " Text(81, 0, ''),\n",
       " Text(82, 0, ''),\n",
       " Text(83, 0, ''),\n",
       " Text(84, 0, ''),\n",
       " Text(85, 0, ''),\n",
       " Text(86, 0, ''),\n",
       " Text(87, 0, ''),\n",
       " Text(88, 0, ''),\n",
       " Text(89, 0, ''),\n",
       " Text(90, 0, '9.0'),\n",
       " Text(91, 0, ''),\n",
       " Text(92, 0, ''),\n",
       " Text(93, 0, ''),\n",
       " Text(94, 0, ''),\n",
       " Text(95, 0, ''),\n",
       " Text(96, 0, ''),\n",
       " Text(97, 0, ''),\n",
       " Text(98, 0, ''),\n",
       " Text(99, 0, ''),\n",
       " Text(100, 0, '10.0')]"
      ]
     },
     "execution_count": 150,
     "metadata": {},
     "output_type": "execute_result"
    }
   ],
   "source": [
    "ax.set"
   ]
  },
  {
   "cell_type": "code",
   "execution_count": 13,
   "metadata": {},
   "outputs": [
    {
     "name": "stderr",
     "output_type": "stream",
     "text": [
      "<ipython-input-13-8e184ef556dc>:1: RuntimeWarning: Mean of empty slice\n",
      "  data         = np.nanmean(np.nanmean(notas_componentes[:,:,:,1],axis=2),axis=1)\n"
     ]
    }
   ],
   "source": [
    "data         = np.nanmean(np.nanmean(notas_componentes[:,:,:,1],axis=2),axis=1)\n",
    "data_count,_ = np.histogram(data,bins=nota_bin_edges)"
   ]
  },
  {
   "cell_type": "code",
   "execution_count": 14,
   "metadata": {},
   "outputs": [
    {
     "data": {
      "application/vnd.jupyter.widget-view+json": {
       "model_id": "2a8d192f8fe74be4b0ffa3fb788adb25",
       "version_major": 2,
       "version_minor": 0
      },
      "text/plain": [
       "Canvas(toolbar=Toolbar(toolitems=[('Home', 'Reset original view', 'home', 'home'), ('Back', 'Back to previous …"
      ]
     },
     "metadata": {},
     "output_type": "display_data"
    },
    {
     "data": {
      "text/plain": [
       "(0.0, 50.0)"
      ]
     },
     "execution_count": 14,
     "metadata": {},
     "output_type": "execute_result"
    }
   ],
   "source": [
    "%matplotlib widget\n",
    "\n",
    "plt.close(1)\n",
    "sns.set_theme(context='notebook',palette='colorblind',style='ticks')\n",
    "\n",
    "fig,ax = plt.subplots(1,1,figsize=(7.5,3),num=1)\n",
    "\n",
    "h_bar = sns.barplot(x=nota_bin_edges[1:], y=data_count,ax=ax,facecolor=(1,1,1),edgecolor=(0,0,0))\n",
    "\n",
    "xtl = ax.set_xticklabels(nota_bin_tlabels_closed)\n",
    "ax.set_ylabel('Número de componentes')\n",
    "ax.set_xlabel('Média das notas')\n",
    "ax.set_title('Desempenho médio dos discentes nos componentes da ECT')\n",
    "ax.set_position((.1,.3,.8,.6))\n",
    "ax.set_ylim((0,50))"
   ]
  },
  {
   "cell_type": "code",
   "execution_count": 27,
   "metadata": {},
   "outputs": [
    {
     "name": "stderr",
     "output_type": "stream",
     "text": [
      "<ipython-input-27-d516d6d32e4b>:1: RuntimeWarning: Mean of empty slice\n",
      "  notas_cap = np.nanmean(notas_componentes[:,:,:,1],axis=2)\n"
     ]
    }
   ],
   "source": [
    "notas_cap = np.nanmean(notas_componentes[:,:,:,1],axis=2)"
   ]
  },
  {
   "cell_type": "code",
   "execution_count": 40,
   "metadata": {},
   "outputs": [
    {
     "data": {
      "text/plain": [
       "(279, 23)"
      ]
     },
     "execution_count": 40,
     "metadata": {},
     "output_type": "execute_result"
    }
   ],
   "source": []
  },
  {
   "cell_type": "code",
   "execution_count": 49,
   "metadata": {},
   "outputs": [],
   "source": [
    "notas_cap_count = np.empty((n_i, nota_bin_ticks_n))\n",
    "\n",
    "for c in range(n_i):\n",
    "    notas_cap_ = notas_cap[c,~pd.isna(notas_cap[c,:])]\n",
    "\n",
    "    notas_cap_count[c,:],_ = np.histogram(notas_cap_, bins=nota_bin_edges)"
   ]
  },
  {
   "cell_type": "code",
   "execution_count": 50,
   "metadata": {},
   "outputs": [
    {
     "data": {
      "application/vnd.jupyter.widget-view+json": {
       "model_id": "6a99c535641346ae82492df5246c268d",
       "version_major": 2,
       "version_minor": 0
      },
      "text/plain": [
       "Canvas(toolbar=Toolbar(toolitems=[('Home', 'Reset original view', 'home', 'home'), ('Back', 'Back to previous …"
      ]
     },
     "metadata": {},
     "output_type": "display_data"
    },
    {
     "data": {
      "text/plain": [
       "[<matplotlib.axis.XTick at 0x7fd97f242940>,\n",
       " <matplotlib.axis.XTick at 0x7fd97f242bb0>,\n",
       " <matplotlib.axis.XTick at 0x7fd9917a4190>,\n",
       " <matplotlib.axis.XTick at 0x7fd9662f9640>,\n",
       " <matplotlib.axis.XTick at 0x7fd9a64ae100>,\n",
       " <matplotlib.axis.XTick at 0x7fd9a64b1220>,\n",
       " <matplotlib.axis.XTick at 0x7fd9a64e8730>,\n",
       " <matplotlib.axis.XTick at 0x7fd9a64c1130>,\n",
       " <matplotlib.axis.XTick at 0x7fd9a64c1b50>,\n",
       " <matplotlib.axis.XTick at 0x7fd991ab7040>,\n",
       " <matplotlib.axis.XTick at 0x7fd991ab7550>,\n",
       " <matplotlib.axis.XTick at 0x7fd991ab7a60>,\n",
       " <matplotlib.axis.XTick at 0x7fd991ab7f70>,\n",
       " <matplotlib.axis.XTick at 0x7fd991ab75e0>,\n",
       " <matplotlib.axis.XTick at 0x7fd9a64c1280>,\n",
       " <matplotlib.axis.XTick at 0x7fd9a64ae460>,\n",
       " <matplotlib.axis.XTick at 0x7fd991aad580>,\n",
       " <matplotlib.axis.XTick at 0x7fd991aada90>,\n",
       " <matplotlib.axis.XTick at 0x7fd991aadfa0>,\n",
       " <matplotlib.axis.XTick at 0x7fd991ab54f0>,\n",
       " <matplotlib.axis.XTick at 0x7fd991ab5a00>,\n",
       " <matplotlib.axis.XTick at 0x7fd991ab5f10>,\n",
       " <matplotlib.axis.XTick at 0x7fd991aa9460>]"
      ]
     },
     "execution_count": 50,
     "metadata": {},
     "output_type": "execute_result"
    }
   ],
   "source": [
    "%matplotlib widget\n",
    "\n",
    "import matplotlib.colors as colors\n",
    "\n",
    "plt.close(2)\n",
    "sns.set_theme(context='notebook',palette='colorblind',style='ticks')\n",
    "\n",
    "\n",
    "#data_count / np.sum(data_count,axis=0)\n",
    "#np.random.random( ( 5, 5 ) ) / np.arange( 5 )\n",
    "\n",
    "fig = plt.figure(num=2,figsize=(8,6))\n",
    "ax = plt.subplot()\n",
    "cm_norm = colors.BoundaryNorm(boundaries=np.arange(0,.31,.01),ncolors=300,clip=True)\n",
    "\n",
    "plt.imshow(notas_cap_count,norm=cm_norm,cmap='viridis')\n",
    "#plt.imshow(data_count/np.sum(data_count,axis=0),cmap='viridis')\n",
    "\n",
    "ax.set_ylabel('Intervalo das notas')\n",
    "ax.set_xlabel('Perídos')\n",
    "ax.set_yticks(np.arange(-nota_bin_diff,21.,nota_bin_diff*2))\n",
    "ax.set_xticks(periodo_ticks)"
   ]
  },
  {
   "cell_type": "code",
   "execution_count": 47,
   "metadata": {},
   "outputs": [
    {
     "data": {
      "application/vnd.jupyter.widget-view+json": {
       "model_id": "f2160e6a9565458f9c15ca827dab1b78",
       "version_major": 2,
       "version_minor": 0
      },
      "text/plain": [
       "Canvas(toolbar=Toolbar(toolitems=[('Home', 'Reset original view', 'home', 'home'), ('Back', 'Back to previous …"
      ]
     },
     "metadata": {},
     "output_type": "display_data"
    }
   ],
   "source": [
    "%matplotlib widget\n",
    "\n",
    "import matplotlib.colors as colors\n",
    "\n",
    "plt.close(2)\n",
    "sns.set_theme(context='notebook',palette='colorblind',style='ticks')\n",
    "\n",
    "\n",
    "#data_count / np.sum(data_count,axis=0)\n",
    "#np.random.random( ( 5, 5 ) ) / np.arange( 5 )\n",
    "\n",
    "fig = plt.figure(num=2,figsize=(8,6))\n",
    "ax = plt.subplot()\n",
    "cm_norm = colors.BoundaryNorm(boundaries=np.arange(0,.31,.01),ncolors=300,clip=True)\n",
    "\n",
    "plt.imshow(im_matrix,norm=cm_norm,cmap='viridis')\n",
    "#plt.imshow(data_count/np.sum(data_count,axis=0),cmap='viridis')\n",
    "\n",
    "ax.set_ylabel('Intervalo das notas')\n",
    "ax.set_xlabel('Perídos')\n",
    "ax.set_yticks(range(nota_bin_ticks_n))\n",
    "ax.set_xticks(periodo_ticks)\n",
    "ytl = ax.set_xticklabels(periodo_labels)\n",
    "xtl = ax.set_yticklabels(nota_bin_tlabels_inteval)\n",
    "\n",
    "[y.set_rotation(40) for y in ytl];\n",
    "\n",
    "ax.set_title('Distribuição de probabilidade das notas ao longo dos perídos')\n",
    "cbar = plt.colorbar(ticks=np.arange(0,.31,.05))\n",
    "cbar.solids.set_edgecolor(\"face\")\n",
    "ax.set_position((-0.2,.2,.95,.7))\n",
    "\n",
    "cbar.set_label('Probabilidade')\n"
   ]
  },
  {
   "cell_type": "code",
   "execution_count": 53,
   "metadata": {},
   "outputs": [
    {
     "name": "stderr",
     "output_type": "stream",
     "text": [
      "<ipython-input-53-a66d29fd5ab9>:8: RuntimeWarning: Mean of empty slice\n",
      "  data = np.nanmean(notas_componentes[:,:,:,1],axis=2)\n"
     ]
    },
    {
     "data": {
      "application/vnd.jupyter.widget-view+json": {
       "model_id": "612bcc907cd646f7b574a15cad8790fc",
       "version_major": 2,
       "version_minor": 0
      },
      "text/plain": [
       "Canvas(toolbar=Toolbar(toolitems=[('Home', 'Reset original view', 'home', 'home'), ('Back', 'Back to previous …"
      ]
     },
     "metadata": {},
     "output_type": "display_data"
    }
   ],
   "source": [
    "%matplotlib widget\n",
    "\n",
    "import matplotlib.colors as colors\n",
    "\n",
    "plt.close(2)\n",
    "sns.set_theme(context='notebook',palette='colorblind',style='ticks')\n",
    "\n",
    "data = np.nanmean(notas_componentes[:,:,:,1],axis=2)\n",
    "\n",
    "data_count = np.empty((nota_bin_ticks_n,n_ap))\n",
    "\n",
    "for ap in range(n_ap):\n",
    "    i_d = ~pd.isna(data[:,ap])\n",
    "    (data_count[:,ap],_) = np.histogram(data[i_d,ap],bins=nota_bin_edges)\n",
    "\n",
    "\n",
    "#data_count / np.sum(data_count,axis=0)\n",
    "#np.random.random( ( 5, 5 ) ) / np.arange( 5 )\n",
    "\n",
    "fig = plt.figure(num=2,figsize=(8,6))\n",
    "ax = plt.subplot()\n",
    "\n",
    "cm_max = 40\n",
    "cm_norm = colors.BoundaryNorm(boundaries=np.arange(0,cm_max,1),ncolors=300,clip=True)\n",
    "\n",
    "plt.imshow(data_count,norm=cm_norm,cmap='viridis')\n",
    "#plt.imshow(data_count/np.sum(data_count,axis=0),cmap='viridis')\n",
    "\n",
    "ax.set_ylabel('Intervalo das notas')\n",
    "ax.set_xlabel('Perídos')\n",
    "ax.set_yticks(range(nota_bin_ticks_n))\n",
    "ax.set_xticks(periodo_ticks)\n",
    "ytl = ax.set_xticklabels(periodo_labels)\n",
    "xtl = ax.set_yticklabels(nota_bin_tlabels_inteval)\n",
    "\n",
    "[y.set_rotation(40) for y in ytl];\n",
    "\n",
    "ax.set_title('Descrição ao longo dos períodos da\\ncontagem de componentes curriculares\\n que a média das notas dos estudantes foi igual a do intervalo')\n",
    "cbar = plt.colorbar(ticks=np.arange(0,40,5))\n",
    "cbar.solids.set_edgecolor(\"face\")\n",
    "ax.set_position((-0.2,.2,.95,.7))\n",
    "\n",
    "cbar.set_label('Número de componentes curriculares')"
   ]
  },
  {
   "cell_type": "code",
   "execution_count": null,
   "metadata": {},
   "outputs": [],
   "source": [
    "notas_ca = np.mean(notas_componentes[:,:,:,1],axis=2)"
   ]
  },
  {
   "cell_type": "code",
   "execution_count": null,
   "metadata": {},
   "outputs": [],
   "source": [
    "%notebook widget\n",
    "\n",
    "from matplotlib import pyplot as plt\n",
    "fnum = 2\n",
    "plt.close(fnum)\n",
    "\n",
    "plt.figure(num=fnum,figsize=(16,5))\n",
    "\n",
    "a = plt.subplot()\n",
    "\n",
    "yquantiles = np.nanquantile( notas_ca, [.25, .5, .75], axis=0 ).transpose()\n",
    "ymean      = np.nanmean( notas_ca, axis=0 )\n",
    "\n",
    "plt.plot( yquantiles ,'ok-')\n",
    "plt.plot( ymean ,'o-')\n",
    "\n",
    "a.set_ylim([0,10])\n",
    "a.set_xticks(np.arange(0,n_ap))\n",
    "a.set_xticklabels(tap)\n",
    "a.set_position((.1,.1,.8,.8))\n",
    "\n",
    "a.set_ylabel('Notas')\n",
    "a.set_xlabel('Ano e período')\n",
    "a.set_title('Média da média da média das notas dos discentes nas unidades dos componentes através dos períodos letivos')"
   ]
  },
  {
   "cell_type": "code",
   "execution_count": null,
   "metadata": {},
   "outputs": [],
   "source": [
    "notas_ca[:,:12].shape\n",
    "notas_ca[:,:12].shape"
   ]
  },
  {
   "cell_type": "code",
   "execution_count": null,
   "metadata": {},
   "outputs": [],
   "source": [
    "notas_antes = np.nanmean(notas_ca[:,:12])\n",
    "notas_depois = np.nanmean(notas_ca[:,12:])"
   ]
  },
  {
   "cell_type": "code",
   "execution_count": null,
   "metadata": {},
   "outputs": [],
   "source": [
    "(1- notas_depois/notas_antes)*100"
   ]
  },
  {
   "cell_type": "code",
   "execution_count": 379,
   "metadata": {},
   "outputs": [
    {
     "ename": "AttributeError",
     "evalue": "'list' object has no attribute 'set_position'",
     "output_type": "error",
     "traceback": [
      "\u001b[1;31m---------------------------------------------------------------------------\u001b[0m",
      "\u001b[1;31mAttributeError\u001b[0m                            Traceback (most recent call last)",
      "\u001b[1;32mC:\\dev\\source\\dadosbook\\functions\\dc_join.py\u001b[0m in \u001b[0;36m<module>\u001b[1;34m\u001b[0m\n\u001b[0;32m      1\u001b[0m \u001b[1;31m#z = sns.histplot(data,bins=data_bin)\u001b[0m\u001b[1;33m\u001b[0m\u001b[1;33m\u001b[0m\u001b[1;33m\u001b[0m\u001b[0m\n\u001b[0;32m      2\u001b[0m \u001b[1;33m\u001b[0m\u001b[0m\n\u001b[1;32m----> 3\u001b[1;33m \u001b[0mz\u001b[0m\u001b[1;33m.\u001b[0m\u001b[0mset_position\u001b[0m\u001b[1;33m(\u001b[0m\u001b[1;33m(\u001b[0m\u001b[1;36m0.1\u001b[0m\u001b[1;33m,\u001b[0m\u001b[1;36m0.3\u001b[0m\u001b[1;33m,\u001b[0m\u001b[1;36m.8\u001b[0m\u001b[1;33m,\u001b[0m\u001b[1;36m.5\u001b[0m\u001b[1;33m)\u001b[0m\u001b[1;33m)\u001b[0m\u001b[1;33m\u001b[0m\u001b[1;33m\u001b[0m\u001b[0m\n\u001b[0m\u001b[0;32m      4\u001b[0m \u001b[0mz\u001b[0m\u001b[1;33m.\u001b[0m\u001b[0mset_ylabel\u001b[0m\u001b[1;33m(\u001b[0m\u001b[1;34m'Nº de componentes'\u001b[0m\u001b[1;33m)\u001b[0m\u001b[1;33m\u001b[0m\u001b[1;33m\u001b[0m\u001b[0m\n\u001b[0;32m      5\u001b[0m \u001b[0mz\u001b[0m\u001b[1;33m.\u001b[0m\u001b[0mset_xlabel\u001b[0m\u001b[1;33m(\u001b[0m\u001b[1;34m'Nota média'\u001b[0m\u001b[1;33m)\u001b[0m\u001b[1;33m\u001b[0m\u001b[1;33m\u001b[0m\u001b[0m\n",
      "\u001b[1;31mAttributeError\u001b[0m: 'list' object has no attribute 'set_position'"
     ]
    }
   ],
   "source": [
    "#z = sns.histplot(data,bins=data_bin)\n",
    "\n",
    "z.set_position((0.1,0.3,.8,.5))\n",
    "z.set_ylabel('Nº de componentes')\n",
    "z.set_xlabel('Nota média')\n",
    "z.set_title('A média no tempo da média das unidades da média dos discentes em cada componente do curso da ECT')\n",
    "\n",
    "ax.text(5,5,'ok')\n",
    "class Cursor:\n",
    "    def __init__(self, ax):\n",
    "        self.ax = ax\n",
    "        self.lx = ax.axhline(color='k')  # the horiz line\n",
    "        self.ly = ax.axvline(color='k')  # the vert line\n",
    "                  \n",
    "        # text location in axes coords\n",
    "        self.txt = ax.text(.1, .8, '', transform=ax.transAxes)\n",
    "\n",
    "    def mouse_move(self, event):\n",
    "        if not event.inaxes:\n",
    "            return\n",
    "\n",
    "        x, y = event.xdata, event.ydata\n",
    "        # update the line positions\n",
    "        self.lx.set_ydata(y)\n",
    "        self.ly.set_xdata(x)\n",
    "\n",
    "        self.txt.set_text('x=%1.2f, y=%1.2f' % (x, y))\n",
    "        self.ax.figure.canvas.draw()\n",
    "\n",
    "h_event = Cursor(ax)\n",
    "fig.canvas.mpl_connect('motion_notify_event',h_event.mouse_move)"
   ]
  },
  {
   "cell_type": "code",
   "execution_count": 410,
   "metadata": {},
   "outputs": [],
   "source": [
    "rr = [ ]\n",
    "\n",
    "n_periodos = np.empty((n_i,))\n",
    "\n",
    "for n in range(n_i):\n",
    "\n",
    "    notas    = notas_componentes[n,:,:,1]\n",
    "    \n",
    "    id_pa    = ~np.all( np.isnan(notas),axis=1)\n",
    "    id_notas = np.where(id_pa)[0]\n",
    "    \n",
    "    notas    = notas[id_notas,:]\n",
    "    ano_periodo = np.array([pa_dict[k] for k in id_notas])\n",
    "    \n",
    "    n_periodos[n] = len(ano_periodo)\n",
    "    \n",
    "    r = np.corrcoef(ano_periodo,np.nanmean(notas,axis=1))[0,1]\n",
    "   \n",
    "    rr.append(r)"
   ]
  },
  {
   "cell_type": "code",
   "execution_count": 411,
   "metadata": {},
   "outputs": [
    {
     "ename": "NameError",
     "evalue": "name 'n_a' is not defined",
     "output_type": "error",
     "traceback": [
      "\u001b[1;31m---------------------------------------------------------------------------\u001b[0m",
      "\u001b[1;31mNameError\u001b[0m                                 Traceback (most recent call last)",
      "\u001b[1;32mC:\\dev\\source\\dadosbook\\functions\\dc_join.py\u001b[0m in \u001b[0;36m<module>\u001b[1;34m\u001b[0m\n\u001b[1;32m----> 1\u001b[1;33m \u001b[0map_mean\u001b[0m \u001b[1;33m=\u001b[0m \u001b[0mnp\u001b[0m\u001b[1;33m.\u001b[0m\u001b[0mempty\u001b[0m\u001b[1;33m(\u001b[0m\u001b[0mn_a\u001b[0m\u001b[1;33m*\u001b[0m\u001b[0mn_p\u001b[0m\u001b[1;33m)\u001b[0m\u001b[1;33m\u001b[0m\u001b[1;33m\u001b[0m\u001b[0m\n\u001b[0m\u001b[0;32m      2\u001b[0m \u001b[1;32mfor\u001b[0m \u001b[0map\u001b[0m\u001b[1;33m,\u001b[0m\u001b[0mapm\u001b[0m \u001b[1;32min\u001b[0m \u001b[0menumerate\u001b[0m\u001b[1;33m(\u001b[0m\u001b[0map_mean\u001b[0m\u001b[1;33m)\u001b[0m\u001b[1;33m:\u001b[0m\u001b[1;33m\u001b[0m\u001b[1;33m\u001b[0m\u001b[0m\n\u001b[0;32m      3\u001b[0m     \u001b[0map_mean\u001b[0m\u001b[1;33m[\u001b[0m\u001b[0map\u001b[0m\u001b[1;33m]\u001b[0m \u001b[1;33m=\u001b[0m \u001b[0mnp\u001b[0m\u001b[1;33m.\u001b[0m\u001b[0mnanmean\u001b[0m\u001b[1;33m(\u001b[0m\u001b[0mnp\u001b[0m\u001b[1;33m.\u001b[0m\u001b[0mnanmean\u001b[0m\u001b[1;33m(\u001b[0m\u001b[0mnotas_componentes\u001b[0m\u001b[1;33m[\u001b[0m\u001b[1;33m:\u001b[0m\u001b[1;33m,\u001b[0m\u001b[0map\u001b[0m\u001b[1;33m,\u001b[0m\u001b[1;33m:\u001b[0m\u001b[1;33m,\u001b[0m\u001b[1;36m1\u001b[0m\u001b[1;33m]\u001b[0m\u001b[1;33m,\u001b[0m\u001b[0maxis\u001b[0m\u001b[1;33m=\u001b[0m\u001b[1;36m1\u001b[0m\u001b[1;33m)\u001b[0m\u001b[1;33m)\u001b[0m\u001b[1;33m\u001b[0m\u001b[1;33m\u001b[0m\u001b[0m\n",
      "\u001b[1;31mNameError\u001b[0m: name 'n_a' is not defined"
     ]
    }
   ],
   "source": [
    "ap_mean = np.empty(n_a*n_p)\n",
    "for ap,apm in enumerate(ap_mean):\n",
    "    ap_mean[ap] = np.nanmean(np.nanmean(notas_componentes[:,ap,:,1],axis=1))"
   ]
  },
  {
   "cell_type": "code",
   "execution_count": 364,
   "metadata": {},
   "outputs": [
    {
     "data": {
      "application/vnd.jupyter.widget-view+json": {
       "model_id": "c5a1143d5d9b47d8b9f27359158eb72f",
       "version_major": 2,
       "version_minor": 0
      },
      "text/plain": [
       "Canvas(toolbar=Toolbar(toolitems=[('Home', 'Reset original view', 'home', 'home'), ('Back', 'Back to previous …"
      ]
     },
     "metadata": {},
     "output_type": "display_data"
    },
    {
     "ename": "NameError",
     "evalue": "name 'n_periodos' is not defined",
     "output_type": "error",
     "traceback": [
      "\u001b[1;31m---------------------------------------------------------------------------\u001b[0m",
      "\u001b[1;31mNameError\u001b[0m                                 Traceback (most recent call last)",
      "\u001b[1;32mC:\\dev\\source\\dadosbook\\functions\\dc_join.py\u001b[0m in \u001b[0;36m<module>\u001b[1;34m\u001b[0m\n\u001b[0;32m      6\u001b[0m \u001b[1;33m\u001b[0m\u001b[0m\n\u001b[0;32m      7\u001b[0m \u001b[0mf\u001b[0m\u001b[1;33m,\u001b[0m\u001b[0ma\u001b[0m \u001b[1;33m=\u001b[0m \u001b[0mplt\u001b[0m\u001b[1;33m.\u001b[0m\u001b[0msubplots\u001b[0m\u001b[1;33m(\u001b[0m\u001b[1;36m1\u001b[0m\u001b[1;33m,\u001b[0m\u001b[1;36m1\u001b[0m\u001b[1;33m,\u001b[0m\u001b[0mfigsize\u001b[0m\u001b[1;33m=\u001b[0m\u001b[1;33m(\u001b[0m\u001b[1;36m7\u001b[0m\u001b[1;33m,\u001b[0m\u001b[1;36m2\u001b[0m\u001b[1;33m)\u001b[0m\u001b[1;33m,\u001b[0m\u001b[0mnum\u001b[0m\u001b[1;33m=\u001b[0m\u001b[1;36m1\u001b[0m\u001b[1;33m)\u001b[0m\u001b[1;33m\u001b[0m\u001b[1;33m\u001b[0m\u001b[0m\n\u001b[1;32m----> 8\u001b[1;33m \u001b[0mz\u001b[0m \u001b[1;33m=\u001b[0m \u001b[0msns\u001b[0m\u001b[1;33m.\u001b[0m\u001b[0mhistplot\u001b[0m\u001b[1;33m(\u001b[0m\u001b[0mn_periodos\u001b[0m\u001b[1;33m,\u001b[0m\u001b[0mbins\u001b[0m\u001b[1;33m=\u001b[0m\u001b[0mnp\u001b[0m\u001b[1;33m.\u001b[0m\u001b[0marange\u001b[0m\u001b[1;33m(\u001b[0m\u001b[1;36m0\u001b[0m\u001b[1;33m,\u001b[0m\u001b[1;36m25\u001b[0m\u001b[1;33m,\u001b[0m\u001b[1;36m1\u001b[0m\u001b[1;33m)\u001b[0m\u001b[1;33m,\u001b[0m\u001b[0max\u001b[0m\u001b[1;33m=\u001b[0m\u001b[0ma\u001b[0m\u001b[1;33m)\u001b[0m\u001b[1;33m\u001b[0m\u001b[1;33m\u001b[0m\u001b[0m\n\u001b[0m\u001b[0;32m      9\u001b[0m \u001b[0mz\u001b[0m\u001b[1;33m.\u001b[0m\u001b[0mset_position\u001b[0m\u001b[1;33m(\u001b[0m\u001b[1;33m(\u001b[0m\u001b[1;36m0.1\u001b[0m\u001b[1;33m,\u001b[0m\u001b[1;36m0.3\u001b[0m\u001b[1;33m,\u001b[0m\u001b[1;36m.8\u001b[0m\u001b[1;33m,\u001b[0m\u001b[1;36m.5\u001b[0m\u001b[1;33m)\u001b[0m\u001b[1;33m)\u001b[0m\u001b[1;33m\u001b[0m\u001b[1;33m\u001b[0m\u001b[0m\n\u001b[0;32m     10\u001b[0m \u001b[0mz\u001b[0m\u001b[1;33m.\u001b[0m\u001b[0mset_ylabel\u001b[0m\u001b[1;33m(\u001b[0m\u001b[1;34m'Nº de ofertas'\u001b[0m\u001b[1;33m)\u001b[0m\u001b[1;33m\u001b[0m\u001b[1;33m\u001b[0m\u001b[0m\n",
      "\u001b[1;31mNameError\u001b[0m: name 'n_periodos' is not defined"
     ]
    }
   ],
   "source": [
    "%matplotlib widget\n",
    "\n",
    "from matplotlib import pyplot as plt\n",
    "import seaborn as sns\n",
    "plt.close(1)\n",
    "\n",
    "f,a = plt.subplots(1,1,figsize=(7,2),num=1)\n",
    "z = sns.histplot(n_periodos,bins=np.arange(0,25,1),ax=a)\n",
    "z.set_position((0.1,0.3,.8,.5))\n",
    "z.set_ylabel('Nº de ofertas')\n",
    "z.set_xlabel('Nº de semestres')\n",
    "z.set_title('Quantidade de oferta de componentes por semestre')"
   ]
  },
  {
   "cell_type": "code",
   "execution_count": null,
   "metadata": {},
   "outputs": [],
   "source": []
  },
  {
   "cell_type": "code",
   "execution_count": 363,
   "metadata": {},
   "outputs": [
    {
     "ename": "NameError",
     "evalue": "name 'rr' is not defined",
     "output_type": "error",
     "traceback": [
      "\u001b[1;31m---------------------------------------------------------------------------\u001b[0m",
      "\u001b[1;31mNameError\u001b[0m                                 Traceback (most recent call last)",
      "\u001b[1;32mC:\\dev\\source\\dadosbook\\functions\\dc_join.py\u001b[0m in \u001b[0;36m<module>\u001b[1;34m\u001b[0m\n\u001b[1;32m----> 1\u001b[1;33m \u001b[0mirn\u001b[0m \u001b[1;33m=\u001b[0m \u001b[0msorted\u001b[0m\u001b[1;33m(\u001b[0m \u001b[0menumerate\u001b[0m\u001b[1;33m(\u001b[0m \u001b[0mzip\u001b[0m\u001b[1;33m(\u001b[0m \u001b[0mrr\u001b[0m\u001b[1;33m,\u001b[0m \u001b[0mn_periodos\u001b[0m \u001b[1;33m)\u001b[0m \u001b[1;33m)\u001b[0m\u001b[1;33m,\u001b[0m \u001b[0mkey\u001b[0m \u001b[1;33m=\u001b[0m \u001b[1;32mlambda\u001b[0m \u001b[0mr\u001b[0m\u001b[1;33m:\u001b[0m \u001b[0mr\u001b[0m\u001b[1;33m[\u001b[0m\u001b[1;36m1\u001b[0m\u001b[1;33m]\u001b[0m\u001b[1;33m[\u001b[0m\u001b[1;36m0\u001b[0m\u001b[1;33m]\u001b[0m \u001b[1;33m)\u001b[0m\u001b[1;33m\u001b[0m\u001b[1;33m\u001b[0m\u001b[0m\n\u001b[0m\u001b[0;32m      2\u001b[0m \u001b[1;33m\u001b[0m\u001b[0m\n\u001b[0;32m      3\u001b[0m \u001b[0mirn\u001b[0m \u001b[1;33m=\u001b[0m \u001b[0mnp\u001b[0m\u001b[1;33m.\u001b[0m\u001b[0marray\u001b[0m\u001b[1;33m(\u001b[0m\u001b[1;33m[\u001b[0m\u001b[1;33m[\u001b[0m\u001b[0mx\u001b[0m\u001b[1;33m[\u001b[0m\u001b[1;36m0\u001b[0m\u001b[1;33m]\u001b[0m\u001b[1;33m,\u001b[0m \u001b[1;33m*\u001b[0m\u001b[0mx\u001b[0m\u001b[1;33m[\u001b[0m\u001b[1;36m1\u001b[0m\u001b[1;33m]\u001b[0m\u001b[1;33m]\u001b[0m \u001b[1;32mfor\u001b[0m \u001b[0mx\u001b[0m \u001b[1;32min\u001b[0m \u001b[0mirn\u001b[0m\u001b[1;33m]\u001b[0m\u001b[1;33m)\u001b[0m\u001b[1;33m\u001b[0m\u001b[1;33m\u001b[0m\u001b[0m\n\u001b[0;32m      4\u001b[0m \u001b[1;33m\u001b[0m\u001b[0m\n\u001b[0;32m      5\u001b[0m \u001b[0mirn\u001b[0m \u001b[1;33m=\u001b[0m \u001b[0mirn\u001b[0m\u001b[1;33m[\u001b[0m\u001b[0mirn\u001b[0m\u001b[1;33m[\u001b[0m\u001b[1;33m:\u001b[0m\u001b[1;33m,\u001b[0m\u001b[1;36m2\u001b[0m\u001b[1;33m]\u001b[0m\u001b[1;33m>\u001b[0m\u001b[1;36m5\u001b[0m\u001b[1;33m,\u001b[0m\u001b[1;33m:\u001b[0m\u001b[1;33m]\u001b[0m\u001b[1;33m\u001b[0m\u001b[1;33m\u001b[0m\u001b[0m\n",
      "\u001b[1;31mNameError\u001b[0m: name 'rr' is not defined"
     ]
    }
   ],
   "source": [
    "irn = sorted( enumerate( zip( rr, n_periodos ) ), key = lambda r: r[1][0] )\n",
    "\n",
    "irn = np.array([[x[0], *x[1]] for x in irn])\n",
    "\n",
    "irn = irn[irn[:,2]>5,:]"
   ]
  },
  {
   "cell_type": "code",
   "execution_count": 362,
   "metadata": {},
   "outputs": [
    {
     "data": {
      "application/vnd.jupyter.widget-view+json": {
       "model_id": "269f3e9d698049c590bb802e755010ec",
       "version_major": 2,
       "version_minor": 0
      },
      "text/plain": [
       "Canvas(toolbar=Toolbar(toolitems=[('Home', 'Reset original view', 'home', 'home'), ('Back', 'Back to previous …"
      ]
     },
     "metadata": {},
     "output_type": "display_data"
    },
    {
     "ename": "NameError",
     "evalue": "name 'n_periodos' is not defined",
     "output_type": "error",
     "traceback": [
      "\u001b[1;31m---------------------------------------------------------------------------\u001b[0m",
      "\u001b[1;31mNameError\u001b[0m                                 Traceback (most recent call last)",
      "\u001b[1;32mC:\\dev\\source\\dadosbook\\functions\\dc_join.py\u001b[0m in \u001b[0;36m<module>\u001b[1;34m\u001b[0m\n\u001b[0;32m      5\u001b[0m \u001b[1;33m\u001b[0m\u001b[0m\n\u001b[0;32m      6\u001b[0m \u001b[0mf\u001b[0m\u001b[1;33m,\u001b[0m\u001b[0ma\u001b[0m \u001b[1;33m=\u001b[0m \u001b[0mplt\u001b[0m\u001b[1;33m.\u001b[0m\u001b[0msubplots\u001b[0m\u001b[1;33m(\u001b[0m\u001b[1;36m1\u001b[0m\u001b[1;33m,\u001b[0m\u001b[1;36m1\u001b[0m\u001b[1;33m,\u001b[0m\u001b[0mfigsize\u001b[0m\u001b[1;33m=\u001b[0m\u001b[1;33m(\u001b[0m\u001b[1;36m7\u001b[0m\u001b[1;33m,\u001b[0m\u001b[1;36m2\u001b[0m\u001b[1;33m)\u001b[0m\u001b[1;33m)\u001b[0m\u001b[1;33m\u001b[0m\u001b[1;33m\u001b[0m\u001b[0m\n\u001b[1;32m----> 7\u001b[1;33m \u001b[0mz\u001b[0m \u001b[1;33m=\u001b[0m \u001b[0msns\u001b[0m\u001b[1;33m.\u001b[0m\u001b[0mhistplot\u001b[0m\u001b[1;33m(\u001b[0m\u001b[0mn_periodos\u001b[0m\u001b[1;33m,\u001b[0m\u001b[0mbins\u001b[0m\u001b[1;33m=\u001b[0m\u001b[0mnp\u001b[0m\u001b[1;33m.\u001b[0m\u001b[0marange\u001b[0m\u001b[1;33m(\u001b[0m\u001b[1;36m0\u001b[0m\u001b[1;33m,\u001b[0m\u001b[1;36m25\u001b[0m\u001b[1;33m,\u001b[0m\u001b[1;36m1\u001b[0m\u001b[1;33m)\u001b[0m\u001b[1;33m,\u001b[0m\u001b[0max\u001b[0m\u001b[1;33m=\u001b[0m\u001b[0ma\u001b[0m\u001b[1;33m)\u001b[0m\u001b[1;33m\u001b[0m\u001b[1;33m\u001b[0m\u001b[0m\n\u001b[0m\u001b[0;32m      8\u001b[0m \u001b[0mz\u001b[0m\u001b[1;33m.\u001b[0m\u001b[0mset_position\u001b[0m\u001b[1;33m(\u001b[0m\u001b[1;33m(\u001b[0m\u001b[1;36m0.1\u001b[0m\u001b[1;33m,\u001b[0m\u001b[1;36m0.3\u001b[0m\u001b[1;33m,\u001b[0m\u001b[1;36m.8\u001b[0m\u001b[1;33m,\u001b[0m\u001b[1;36m.5\u001b[0m\u001b[1;33m)\u001b[0m\u001b[1;33m)\u001b[0m\u001b[1;33m\u001b[0m\u001b[1;33m\u001b[0m\u001b[0m\n\u001b[0;32m      9\u001b[0m \u001b[0mz\u001b[0m\u001b[1;33m.\u001b[0m\u001b[0mset_ylabel\u001b[0m\u001b[1;33m(\u001b[0m\u001b[1;34m'Nº de ofertas'\u001b[0m\u001b[1;33m)\u001b[0m\u001b[1;33m\u001b[0m\u001b[1;33m\u001b[0m\u001b[0m\n",
      "\u001b[1;31mNameError\u001b[0m: name 'n_periodos' is not defined"
     ]
    }
   ],
   "source": [
    "%matplotlib widget\n",
    "\n",
    "from matplotlib import pyplot as plt\n",
    "import seaborn as sns\n",
    "\n",
    "f,a = plt.subplots(1,1,figsize=(7,2))\n",
    "z = sns.histplot(n_periodos,bins=np.arange(0,25,1),ax=a)\n",
    "z.set_position((0.1,0.3,.8,.5))\n",
    "z.set_ylabel('Nº de ofertas')\n",
    "z.set_xlabel('Nº de semestres')\n",
    "z.set_title('Quantidade de oferta de componentes por semestre')"
   ]
  },
  {
   "cell_type": "code",
   "execution_count": 361,
   "metadata": {},
   "outputs": [
    {
     "data": {
      "application/vnd.jupyter.widget-view+json": {
       "model_id": "cacdfda5d65944f98fdc164e7a9492ae",
       "version_major": 2,
       "version_minor": 0
      },
      "text/plain": [
       "Canvas(toolbar=Toolbar(toolitems=[('Home', 'Reset original view', 'home', 'home'), ('Back', 'Back to previous …"
      ]
     },
     "metadata": {},
     "output_type": "display_data"
    },
    {
     "ename": "NameError",
     "evalue": "name 'irn' is not defined",
     "output_type": "error",
     "traceback": [
      "\u001b[1;31m---------------------------------------------------------------------------\u001b[0m",
      "\u001b[1;31mNameError\u001b[0m                                 Traceback (most recent call last)",
      "\u001b[1;32mC:\\dev\\source\\dadosbook\\functions\\dc_join.py\u001b[0m in \u001b[0;36m<module>\u001b[1;34m\u001b[0m\n\u001b[0;32m      5\u001b[0m \u001b[0mnn\u001b[0m \u001b[1;33m=\u001b[0m \u001b[1;36m1\u001b[0m\u001b[1;33m\u001b[0m\u001b[1;33m\u001b[0m\u001b[0m\n\u001b[0;32m      6\u001b[0m \u001b[1;31m#for nn in range(20):#nn = 3\u001b[0m\u001b[1;33m\u001b[0m\u001b[1;33m\u001b[0m\u001b[1;33m\u001b[0m\u001b[0m\n\u001b[1;32m----> 7\u001b[1;33m \u001b[0mn\u001b[0m \u001b[1;33m=\u001b[0m \u001b[0mint\u001b[0m\u001b[1;33m(\u001b[0m\u001b[0mirn\u001b[0m\u001b[1;33m[\u001b[0m\u001b[0mnn\u001b[0m\u001b[1;33m,\u001b[0m\u001b[1;36m0\u001b[0m\u001b[1;33m]\u001b[0m\u001b[1;33m)\u001b[0m\u001b[1;33m\u001b[0m\u001b[1;33m\u001b[0m\u001b[0m\n\u001b[0m\u001b[0;32m      8\u001b[0m \u001b[1;33m\u001b[0m\u001b[0m\n\u001b[0;32m      9\u001b[0m \u001b[1;31m#   0        1        2        3        4        5        6        7\u001b[0m\u001b[1;33m\u001b[0m\u001b[1;33m\u001b[0m\u001b[1;33m\u001b[0m\u001b[0m\n",
      "\u001b[1;31mNameError\u001b[0m: name 'irn' is not defined"
     ]
    }
   ],
   "source": [
    "%matplotlib widget\n",
    "\n",
    "f,a = plt.subplots(1,1,figsize=(5,5))\n",
    "\n",
    "nn = 1\n",
    "#for nn in range(20):#nn = 3\n",
    "n = int(irn[nn,0])\n",
    "\n",
    "#   0        1        2        3        4        5        6        7     \n",
    "# count     mean     std      min      25%      50%      75%      max    \n",
    "\n",
    "notas1 = notas_componentes[n,:,:,1]\n",
    "notas_id_nan = ~np.all(np.isnan(notas1),axis=1)\n",
    "id_notas = np.where(notas_id_nan)[0]\n",
    "notas = notas1[id_notas,:]\n",
    "ano_periodo = np.array([pa_dict[k] for k in id_notas])\n",
    "a.plot(ano_periodo, np.nanmean(notas,axis=1),'o-')\n",
    "a.set_ylim((0,10))"
   ]
  },
  {
   "cell_type": "code",
   "execution_count": 360,
   "metadata": {},
   "outputs": [
    {
     "data": {
      "application/vnd.jupyter.widget-view+json": {
       "model_id": "730df1d7657a4b48bf21f00726e257e6",
       "version_major": 2,
       "version_minor": 0
      },
      "text/plain": [
       "Canvas(toolbar=Toolbar(toolitems=[('Home', 'Reset original view', 'home', 'home'), ('Back', 'Back to previous …"
      ]
     },
     "metadata": {},
     "output_type": "display_data"
    },
    {
     "ename": "NameError",
     "evalue": "name 'id_r' is not defined",
     "output_type": "error",
     "traceback": [
      "\u001b[1;31m---------------------------------------------------------------------------\u001b[0m",
      "\u001b[1;31mNameError\u001b[0m                                 Traceback (most recent call last)",
      "\u001b[1;32mC:\\dev\\source\\dadosbook\\functions\\dc_join.py\u001b[0m in \u001b[0;36m<module>\u001b[1;34m\u001b[0m\n\u001b[0;32m      6\u001b[0m     \u001b[0mnnn\u001b[0m \u001b[1;33m=\u001b[0m \u001b[1;36m278\u001b[0m\u001b[1;33m-\u001b[0m\u001b[0mnn\u001b[0m\u001b[1;33m\u001b[0m\u001b[1;33m\u001b[0m\u001b[0m\n\u001b[0;32m      7\u001b[0m     \u001b[0mu_i_e\u001b[0m \u001b[1;33m=\u001b[0m \u001b[0mE\u001b[0m\u001b[1;33m.\u001b[0m\u001b[0mid_componente_curricular\u001b[0m\u001b[1;33m.\u001b[0m\u001b[0munique\u001b[0m\u001b[1;33m(\u001b[0m\u001b[1;33m)\u001b[0m\u001b[1;33m\u001b[0m\u001b[1;33m\u001b[0m\u001b[0m\n\u001b[1;32m----> 8\u001b[1;33m     \u001b[0mi_r_m\u001b[0m \u001b[1;33m=\u001b[0m \u001b[1;33m[\u001b[0m\u001b[0mint\u001b[0m\u001b[1;33m(\u001b[0m\u001b[0mid_r\u001b[0m\u001b[1;33m[\u001b[0m\u001b[1;33m:\u001b[0m\u001b[1;33m,\u001b[0m\u001b[1;36m0\u001b[0m\u001b[1;33m]\u001b[0m\u001b[1;33m[\u001b[0m\u001b[0mnnn\u001b[0m\u001b[1;33m]\u001b[0m\u001b[1;33m)\u001b[0m\u001b[1;33m]\u001b[0m\u001b[1;33m\u001b[0m\u001b[1;33m\u001b[0m\u001b[0m\n\u001b[0m\u001b[0;32m      9\u001b[0m     \u001b[0mu_i_m\u001b[0m \u001b[1;33m=\u001b[0m \u001b[0mu_i_e\u001b[0m\u001b[1;33m[\u001b[0m\u001b[0mi_r_m\u001b[0m\u001b[1;33m]\u001b[0m\u001b[1;33m[\u001b[0m\u001b[1;36m0\u001b[0m\u001b[1;33m]\u001b[0m\u001b[1;33m\u001b[0m\u001b[1;33m\u001b[0m\u001b[0m\n\u001b[0;32m     10\u001b[0m \u001b[1;33m\u001b[0m\u001b[0m\n",
      "\u001b[1;31mNameError\u001b[0m: name 'id_r' is not defined"
     ]
    }
   ],
   "source": [
    "from matplotlib import pyplot as plt\n",
    "import seaborn as sns\n",
    "f,a = plt.subplots(1,1,figsize=(5,5))\n",
    "\n",
    "for nn in range(10):#nn = 3\n",
    "    nnn = 278-nn\n",
    "    u_i_e = E.id_componente_curricular.unique()\n",
    "    i_r_m = [int(id_r[:,0][nnn])]\n",
    "    u_i_m = u_i_e[i_r_m][0]\n",
    "\n",
    "    n = i_e[u_i_m]\n",
    "    notas1 = iapu_notas_description[n,:,:,5]\n",
    "    notas_id_nan = ~np.all(np.isnan(notas1),axis=1)\n",
    "    id_notas = np.where(notas_id_nan)[0]\n",
    "    notas = notas1[id_notas,:]\n",
    "    ano_periodo = np.array([pa_dict[k] for k in id_notas])\n",
    "    a.plot(ano_periodo, np.nanmean(notas,axis=1),'o-')\n"
   ]
  },
  {
   "cell_type": "code",
   "execution_count": 54,
   "metadata": {},
   "outputs": [
    {
     "data": {
      "text/plain": [
       "36"
      ]
     },
     "execution_count": 54,
     "metadata": {},
     "output_type": "execute_result"
    }
   ],
   "source": []
  },
  {
   "cell_type": "code",
   "execution_count": 669,
   "metadata": {},
   "outputs": [],
   "source": [
    "rr = np.array(rr)"
   ]
  },
  {
   "cell_type": "code",
   "execution_count": null,
   "metadata": {},
   "outputs": [],
   "source": []
  },
  {
   "cell_type": "code",
   "execution_count": null,
   "metadata": {},
   "outputs": [],
   "source": [
    "iapu_notas_description"
   ]
  },
  {
   "cell_type": "code",
   "execution_count": null,
   "metadata": {},
   "outputs": [],
   "source": [
    "np.sort(iapu_notas_description"
   ]
  },
  {
   "cell_type": "code",
   "execution_count": 689,
   "metadata": {},
   "outputs": [
    {
     "data": {
      "application/vnd.jupyter.widget-view+json": {
       "model_id": "7775b814b369444c8c99c7ae4de018eb",
       "version_major": 2,
       "version_minor": 0
      },
      "text/plain": [
       "Canvas(toolbar=Toolbar(toolitems=[('Home', 'Reset original view', 'home', 'home'), ('Back', 'Back to previous …"
      ]
     },
     "metadata": {},
     "output_type": "display_data"
    },
    {
     "data": {
      "text/plain": [
       "[<matplotlib.lines.Line2D at 0x22ccf6f0130>]"
      ]
     },
     "execution_count": 689,
     "metadata": {},
     "output_type": "execute_result"
    }
   ],
   "source": [
    "%matplotlib widget\n",
    "f,a = plt.subplots(1,1,figsize=(7,7))\n",
    "a.plot(rr)\n",
    "a.plot([0,rr.size],[-1,1])"
   ]
  },
  {
   "cell_type": "code",
   "execution_count": 674,
   "metadata": {},
   "outputs": [
    {
     "data": {
      "application/vnd.jupyter.widget-view+json": {
       "model_id": "82095cea26f44f6b88372a8322f7f993",
       "version_major": 2,
       "version_minor": 0
      },
      "text/plain": [
       "Canvas(toolbar=Toolbar(toolitems=[('Home', 'Reset original view', 'home', 'home'), ('Back', 'Back to previous …"
      ]
     },
     "metadata": {},
     "output_type": "display_data"
    },
    {
     "data": {
      "text/plain": [
       "[<matplotlib.lines.Line2D at 0x22ccf1a0ee0>]"
      ]
     },
     "execution_count": 674,
     "metadata": {},
     "output_type": "execute_result"
    }
   ],
   "source": [
    "plt.plot(range(len(rr)),rr)"
   ]
  },
  {
   "cell_type": "code",
   "execution_count": 672,
   "metadata": {},
   "outputs": [
    {
     "data": {
      "application/vnd.jupyter.widget-view+json": {
       "model_id": "230c4db1c4764ead864356f04463c051",
       "version_major": 2,
       "version_minor": 0
      },
      "text/plain": [
       "Canvas(toolbar=Toolbar(toolitems=[('Home', 'Reset original view', 'home', 'home'), ('Back', 'Back to previous …"
      ]
     },
     "metadata": {},
     "output_type": "display_data"
    },
    {
     "data": {
      "text/plain": [
       "[<matplotlib.lines.Line2D at 0x22ccf786910>]"
      ]
     },
     "execution_count": 672,
     "metadata": {},
     "output_type": "execute_result"
    }
   ],
   "source": [
    "%matplotlib widget\n",
    "plt.plot(rr)"
   ]
  },
  {
   "cell_type": "code",
   "execution_count": 359,
   "metadata": {},
   "outputs": [
    {
     "ename": "NameError",
     "evalue": "name 'iapu_notas_description' is not defined",
     "output_type": "error",
     "traceback": [
      "\u001b[1;31m---------------------------------------------------------------------------\u001b[0m",
      "\u001b[1;31mNameError\u001b[0m                                 Traceback (most recent call last)",
      "\u001b[1;32mC:\\dev\\source\\dadosbook\\functions\\dc_join.py\u001b[0m in \u001b[0;36m<module>\u001b[1;34m\u001b[0m\n\u001b[0;32m      1\u001b[0m \u001b[0mpa_dict\u001b[0m \u001b[1;33m=\u001b[0m \u001b[1;33m{\u001b[0m\u001b[0map_dict\u001b[0m\u001b[1;33m[\u001b[0m\u001b[0mk\u001b[0m\u001b[1;33m]\u001b[0m\u001b[1;33m:\u001b[0m\u001b[0mk\u001b[0m \u001b[1;32mfor\u001b[0m \u001b[0mk\u001b[0m \u001b[1;32min\u001b[0m \u001b[0map_dict\u001b[0m\u001b[1;33m.\u001b[0m\u001b[0mkeys\u001b[0m\u001b[1;33m(\u001b[0m\u001b[1;33m)\u001b[0m\u001b[1;33m}\u001b[0m\u001b[1;33m\u001b[0m\u001b[1;33m\u001b[0m\u001b[0m\n\u001b[0;32m      2\u001b[0m \u001b[1;33m\u001b[0m\u001b[0m\n\u001b[1;32m----> 3\u001b[1;33m \u001b[0mnotas\u001b[0m \u001b[1;33m=\u001b[0m \u001b[0miapu_notas_description\u001b[0m\u001b[1;33m[\u001b[0m\u001b[1;36m4\u001b[0m\u001b[1;33m,\u001b[0m\u001b[1;33m:\u001b[0m\u001b[1;33m,\u001b[0m\u001b[1;33m:\u001b[0m\u001b[1;33m,\u001b[0m\u001b[1;36m1\u001b[0m\u001b[1;33m]\u001b[0m\u001b[1;33m\u001b[0m\u001b[1;33m\u001b[0m\u001b[0m\n\u001b[0m\u001b[0;32m      4\u001b[0m \u001b[0mnotas_id_nan\u001b[0m \u001b[1;33m=\u001b[0m \u001b[1;33m~\u001b[0m\u001b[0mnp\u001b[0m\u001b[1;33m.\u001b[0m\u001b[0mall\u001b[0m\u001b[1;33m(\u001b[0m\u001b[0mnp\u001b[0m\u001b[1;33m.\u001b[0m\u001b[0misnan\u001b[0m\u001b[1;33m(\u001b[0m\u001b[0mnotas\u001b[0m\u001b[1;33m)\u001b[0m\u001b[1;33m,\u001b[0m\u001b[0maxis\u001b[0m\u001b[1;33m=\u001b[0m\u001b[1;36m1\u001b[0m\u001b[1;33m)\u001b[0m\u001b[1;33m\u001b[0m\u001b[1;33m\u001b[0m\u001b[0m\n\u001b[0;32m      5\u001b[0m \u001b[0mid_notas\u001b[0m \u001b[1;33m=\u001b[0m \u001b[0mnp\u001b[0m\u001b[1;33m.\u001b[0m\u001b[0mwhere\u001b[0m\u001b[1;33m(\u001b[0m\u001b[0mnotas_id_nan\u001b[0m\u001b[1;33m)\u001b[0m\u001b[1;33m[\u001b[0m\u001b[1;36m0\u001b[0m\u001b[1;33m]\u001b[0m\u001b[1;33m\u001b[0m\u001b[1;33m\u001b[0m\u001b[0m\n",
      "\u001b[1;31mNameError\u001b[0m: name 'iapu_notas_description' is not defined"
     ]
    }
   ],
   "source": [
    "pa_dict = {ap_dict[k]:k for k in ap_dict.keys()}\n",
    "\n",
    "notas = iapu_notas_description[4,:,:,1]\n",
    "notas_id_nan = ~np.all(np.isnan(notas),axis=1)\n",
    "id_notas = np.where(notas_id_nan)[0]\n",
    "notas = notas[id_notas,:]\n",
    "ano_periodo = [pa_dict[k] for k in id_notas]\n",
    "\n",
    "r = np.corrcoef(ano_periodo,np.mean(notas,axis=1))[0,1]\n",
    "\n",
    "%matplotlib widget\n",
    "\n",
    "import seaborn as sns\n",
    "from matplotlib import pyplot as plt\n",
    "\n",
    "f,a = plt.subplots(1,1,figsize=(8,3))\n",
    "#a.plot(ano_periodo,notas[:,0])\n",
    "a.plot(ano_periodo,np.mean(notas,axis=1))\n",
    "np.mean(notas,axis=1)\n",
    "\n",
    "a.set_ylim([0, 10])\n"
   ]
  },
  {
   "cell_type": "code",
   "execution_count": 357,
   "metadata": {},
   "outputs": [],
   "source": [
    "z = []\n",
    "x = []\n",
    "x.append('')\n",
    "s = _aptu.nome.iloc[0]\n",
    "S = s.split()"
   ]
  },
  {
   "cell_type": "code",
   "execution_count": 354,
   "metadata": {},
   "outputs": [
    {
     "name": "stdout",
     "output_type": "stream",
     "text": [
      "23\n",
      "TÉCNICAS DE MICROSCOPIA\n",
      "TÉCNICAS DE MICROSCOPIA\n"
     ]
    }
   ],
   "source": [
    "# Each line with 50 characteres\n",
    "# or more up to 60 characteres not to split a string\n",
    "\n",
    "s = _aptu.nome.iloc[0]\n",
    "\n",
    "r = re.findall('(\\w+\\s?\\w+\\s?\\w+\\s?\\w+\\s?\\w+\\s?\\w+\\s?\\w+)\\s?',s)\n",
    "\n",
    "print( len(s), s, sep='\\n' )\n",
    "\n",
    "for r in r:\n",
    "    print(r)\n"
   ]
  }
 ],
 "metadata": {
  "kernelspec": {
   "display_name": "Python 3",
   "language": "python",
   "name": "python3"
  },
  "language_info": {
   "codemirror_mode": {
    "name": "ipython",
    "version": 3
   },
   "file_extension": ".py",
   "mimetype": "text/x-python",
   "name": "python",
   "nbconvert_exporter": "python",
   "pygments_lexer": "ipython3",
   "version": "3.8.5"
  }
 },
 "nbformat": 4,
 "nbformat_minor": 4
}
